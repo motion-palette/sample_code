{
 "cells": [
  {
   "cell_type": "markdown",
   "metadata": {},
   "source": [
    "Python for Everybody\n",
    "## Chapter 10 Tuples"
   ]
  },
  {
   "cell_type": "code",
   "execution_count": 1,
   "metadata": {},
   "outputs": [
    {
     "name": "stdout",
     "output_type": "stream",
     "text": [
      "(1, 2, 3, 4, 5)\n",
      "()\n"
     ]
    }
   ],
   "source": [
    "# 10.01 Tuples are Immutable\n",
    "\n",
    "# syntactically — tuples are comma separated list of values\n",
    "t = (1, 2, 3, 4, 5)\n",
    "print(t)\n",
    "\n",
    "# How to create a tuple (it's like creating a list or dictionary)\n",
    "t = tuple()\n",
    "print(t)"
   ]
  },
  {
   "cell_type": "code",
   "execution_count": 13,
   "metadata": {},
   "outputs": [
    {
     "name": "stdout",
     "output_type": "stream",
     "text": [
      "(1, 2, 3, 4, 5)\n",
      "---\n",
      "(1, 2, 3, 4, 5)\n",
      "---\n",
      "('1', '2', '3', '4', '5')\n"
     ]
    }
   ],
   "source": [
    "# 10.1 (cont.)\n",
    "\n",
    "# How to create and initialize a tuple\n",
    "\n",
    "t = tuple((1,2,3,4,5))   # initialize a new tuple with a specific tuple\n",
    "print(t)\n",
    "print(\"---\")\n",
    "t = tuple([1,2,3,4,5])   # initialize a new tuple with a list\n",
    "print(t)\n",
    "print(\"---\")\n",
    "t = tuple(\"12345\")       # Notice that elements are strings, not numbers.\n",
    "print(t)"
   ]
  },
  {
   "cell_type": "code",
   "execution_count": 12,
   "metadata": {},
   "outputs": [
    {
     "name": "stdout",
     "output_type": "stream",
     "text": [
      "('dog', 'cat', 'wolf')\n",
      "('cat', 'wolf')\n",
      "('dog', 'cat')\n"
     ]
    }
   ],
   "source": [
    "# 10.1 (cont.)\n",
    "\n",
    "# Slicing a tuple\n",
    "\n",
    "t = ('dog', 'cat', 'wolf')\n",
    "print(t)\n",
    "\n",
    "x = t[1:]     # first to last character (excluding 'dog')\n",
    "print(x)\n",
    "\n",
    "x = t[:2]     # 0 to the second character (excludes 'wolf')\n",
    "print(x)\n"
   ]
  },
  {
   "cell_type": "code",
   "execution_count": 3,
   "metadata": {},
   "outputs": [
    {
     "name": "stdout",
     "output_type": "stream",
     "text": [
      "True\n",
      "True\n",
      "---\n",
      "False\n",
      "True\n",
      "---\n"
     ]
    }
   ],
   "source": [
    "# 10.02 Comparing Tuples\n",
    "\n",
    "print ((0, 1, 2) > (0, 3, 1))        # False, because 1 is not greater than 3\n",
    "print ((0, 1, 2) < (0, 1, 3))        # True, beause 3 is greater than 2\n",
    "\n",
    "print(\"---\")\n",
    "print((2, 'dog') > (3, 'cat'))       # False, because 2 is not greater than 3\n",
    "print((3, 'dog') > (3, 'cat'))       # True, because 'dog' comes after 'cat' (alphabetically)\n",
    "\n",
    "print(\"---\")"
   ]
  },
  {
   "cell_type": "code",
   "execution_count": 4,
   "metadata": {},
   "outputs": [
    {
     "name": "stdout",
     "output_type": "stream",
     "text": [
      "[(2, 'It'), (3, 'was'), (1, 'a'), (6, 'bright'), (4, 'cold'), (3, 'day'), (2, 'in'), (5, 'April')]\n",
      "[(6, 'bright'), (5, 'April'), (4, 'cold'), (3, 'was'), (3, 'day'), (2, 'in'), (2, 'It'), (1, 'a')]\n",
      "['bright', 'April', 'cold', 'was', 'day', 'in', 'It', 'a']\n"
     ]
    }
   ],
   "source": [
    "# 10.02 Comparing Tuples (cont.)\n",
    "\n",
    "# DSU method\n",
    "\n",
    "txt = 'It was a bright cold day in April'\n",
    "words = txt.split()\n",
    "\n",
    "# Decorate -- Create a list of tuples\n",
    "t = list()\n",
    "for word in words:\n",
    "    t.append(tuple(len(word), word))   # (2, 'It')\n",
    "\n",
    "# tuple(2, 'It')\n",
    "\n",
    "print(t)\n",
    " \n",
    "# Sort --- Sort the list of tuples based on the first item in each tuple (i.e., character count)\n",
    "t.sort(reverse=True)   \n",
    "print(t)\n",
    "# Undecorate\n",
    "res = list()\n",
    "for length, word in t:\n",
    "    res.append(word)\n",
    "\n",
    "print(res)"
   ]
  },
  {
   "cell_type": "code",
   "execution_count": null,
   "metadata": {
    "collapsed": true
   },
   "outputs": [],
   "source": [
    "# 10.03 Tuple Assignment\n",
    "# Skip"
   ]
  },
  {
   "cell_type": "code",
   "execution_count": 8,
   "metadata": {},
   "outputs": [
    {
     "name": "stdout",
     "output_type": "stream",
     "text": [
      "[('kangaroo', 3), ('penguin', 2), ('octopus', 2), ('snake', 0), ('dog', 4), ('spider', 8)]\n",
      "[('dog', 4), ('kangaroo', 3), ('octopus', 2), ('penguin', 2), ('snake', 0), ('spider', 8)]\n"
     ]
    }
   ],
   "source": [
    "# 10.04 Dictionaries and Tuples\n",
    "\n",
    "a = {'dog' : 4, \"kangaroo\" : 3, \"snake\": 0, \"penguin\" : 2, \"spider\" : 8, \"octopus\" : 2}    # dictionary\n",
    "\n",
    "lst = list(a.items())   # make a list of key-value pair tuples\n",
    "print(lst)              # unsorted list\n",
    "\n",
    "lst.sort()              # \"ask\" d to sort its elements (i.e., tuples). This modifies d.\n",
    "print(lst)              # sorted list (alphabetically)\n"
   ]
  },
  {
   "cell_type": "code",
   "execution_count": 6,
   "metadata": {},
   "outputs": [
    {
     "name": "stdout",
     "output_type": "stream",
     "text": [
      "dog 4\n",
      "kangaroo 3\n",
      "snake 0\n",
      "penguin 2\n",
      "spider 8\n",
      "octopus 2\n"
     ]
    }
   ],
   "source": [
    "# 10.05 Multiple Assignment with Dictionaries\n",
    "\n",
    "a = {'dog' : 4, \"kangaroo\" : 3, \"snake\": 0, \"penguin\" : 2, \"spider\" : 8, \"octopus\" : 2} # dictionary\n",
    "\n",
    "lst = a.items()   # create a list of tuples from a dictionary  \n",
    "                        # i.e., d = [('dog', 4), ('kangaroo', 3), ('snake', 0), ...]\n",
    "for key, val in lst:    # for each key and value in the list of tuples\n",
    "    print(key, val)     # print the key and value.\n",
    "\n",
    "#for key, val in a.items():    # for each key and value in the list of tuples\n",
    "#    print(key, val)     # print the key and value.\n",
    "\n",
    "    "
   ]
  },
  {
   "cell_type": "code",
   "execution_count": 8,
   "metadata": {
    "scrolled": true
   },
   "outputs": [
    {
     "name": "stdout",
     "output_type": "stream",
     "text": [
      "[('dog', 4), ('kangaroo', 3), ('snake', 0), ('penguin', 2), ('spider', 8), ('octopus', 2)]\n",
      "[(8, 'spider'), (4, 'dog'), (3, 'kangaroo'), (2, 'penguin'), (2, 'octopus'), (0, 'snake')]\n"
     ]
    }
   ],
   "source": [
    "# 10.05 Multiple Assignment with Dictionaries (cont.)\n",
    "\n",
    "a = {'dog' : 4, \"kangaroo\" : 3, \"snake\": 0, \"penguin\" : 2, \"spider\" : 8, \"octopus\" : 2}\n",
    "d = list(a.items())        # create a list of tuples from a dictionary  \n",
    "print(d)\n",
    "l = list()                 # create an empty list.\n",
    "for key, val in d:         # for each key (animal) and value (# of legs) in a list of tuples\n",
    "    l.append((val,key))    # append a tuple that reverses the order of key and value\n",
    "    \n",
    "l.sort(reverse=True)       # sort the list of tuples by the # of legs (in a reverse order)\n",
    "print(l)"
   ]
  },
  {
   "cell_type": "code",
   "execution_count": 3,
   "metadata": {},
   "outputs": [
    {
     "name": "stdout",
     "output_type": "stream",
     "text": [
      "10 the\n",
      "9 i\n",
      "7 and\n",
      "5 to\n",
      "5 me\n",
      "5 it\n",
      "5 a\n",
      "4 whenever\n",
      "4 of\n",
      "4 my\n"
     ]
    }
   ],
   "source": [
    "# 10.06 The Most Common words\n",
    "\n",
    "# The following is the code from PYFE Ch.10 (p.125.)\n",
    "# Note: the code has an error.\n",
    "\n",
    "import string\n",
    "fhand = open('text/moby_dick.txt')\n",
    "counts = dict()    # create an empty dictionary\n",
    "\n",
    "for line in fhand:\n",
    "    # !!!! this is different from the book. This is the correct line.\n",
    "    line = line.translate(line.maketrans('', '', string.punctuation))     # removes punctuation\n",
    "    line = line.lower()                                                   # make all characters lowercase\n",
    "    words = line.split()                                                  # make a list of words\n",
    "    for word in words:                   # for each 'word' in the list 'words'\n",
    "        if word not in counts:           # if 'word' is not in the dictionary 'counts'\n",
    "            counts[word] = 1             # create a new dictionary element with 'word' and set its value to 1\n",
    "        else:                            # otherwise,\n",
    "            counts[word] += 1            # increment the value of the key 'word'.\n",
    "\n",
    "# At this point, 'counts' (dictionary) holds all the unique words and their counts.\n",
    "            \n",
    "# Decorate: Let's sort the dictionary by value\n",
    "lst = list()                             # create an empty list.\n",
    "for key, val in list(counts.items()):   \n",
    "    lst.append((val, key))\n",
    "\n",
    "# Sort\n",
    "lst.sort(reverse=True)                   # sort the list in a reverse order\n",
    "\n",
    "# Undecorate\n",
    "for key, val in lst[:10]:                # for each key-value pair in the first 10 elements of the list 'lst'\n",
    "    print(key, val)                      # print the key and the value.\n",
    "    "
   ]
  },
  {
   "cell_type": "code",
   "execution_count": 3,
   "metadata": {},
   "outputs": [
    {
     "name": "stdout",
     "output_type": "stream",
     "text": [
      "{   ('Blake', 'Bowman'): 20,\n",
      "    ('Renee', 'Barnes'): 50,\n",
      "    ('Robin', 'Carlson'): 10,\n",
      "    ('Robin', 'Frank'): 40,\n",
      "    ('Sheryl', 'Mitchell'): 30}\n",
      "{('Robin', 'Frank'): 40, ('Sheryl', 'Mitchell'): 30, ('Renee', 'Barnes'): 50, ('Robin', 'Carlson'): 10, ('Blake', 'Bowman'): 20}\n"
     ]
    }
   ],
   "source": [
    "# 10.07 Using Tuples as Keys in Dictionaries\n",
    "\n",
    "import pprint                                  # pretty prnting for debugging\n",
    "pp = pprint.PrettyPrinter(indent=4)            # create a pretty printing object for debugging.\n",
    "\n",
    "dir = dict()                                   # create an empty dictionary\n",
    "dir[(\"Robin\",  \"Carlson\")]  = 10               # add a key-value pair: key = (\"Robin\", \"Carlson\"), 10\n",
    "dir[(\"Blake\",  \"Bowman\")]   = 20\n",
    "dir[(\"Sheryl\", \"Mitchell\")] = 30\n",
    "dir[(\"Robin\",  \"Frank\")]    = 40\n",
    "dir[(\"Renee\",  \"Barnes\")]   = 50\n",
    "\n",
    "pp.pprint(dir)   # pretty print\n",
    "print(dir)       # regular print — the output is a little harder to read."
   ]
  },
  {
   "cell_type": "code",
   "execution_count": 1,
   "metadata": {
    "collapsed": true
   },
   "outputs": [],
   "source": [
    "# 10.08 Sequences: Strings, Lists and Tuples — Oh My!\n",
    "\n",
    "# Read the textbook."
   ]
  },
  {
   "cell_type": "code",
   "execution_count": null,
   "metadata": {
    "collapsed": true
   },
   "outputs": [],
   "source": []
  }
 ],
 "metadata": {
  "kernelspec": {
   "display_name": "Python 3",
   "language": "python",
   "name": "python3"
  },
  "language_info": {
   "codemirror_mode": {
    "name": "ipython",
    "version": 3
   },
   "file_extension": ".py",
   "mimetype": "text/x-python",
   "name": "python",
   "nbconvert_exporter": "python",
   "pygments_lexer": "ipython3",
   "version": "3.6.3"
  }
 },
 "nbformat": 4,
 "nbformat_minor": 1
}
