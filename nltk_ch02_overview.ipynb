{
 "cells": [
  {
   "cell_type": "markdown",
   "metadata": {},
   "source": [
    "Text Processing with NLTK3 Cookbook\n",
    "## Chapter 2 Replacing and Correcting Words"
   ]
  },
  {
   "cell_type": "markdown",
   "metadata": {},
   "source": [
    "### Stemming Words (p.30)\n",
    "\n",
    "\n",
    "Think about the following code this way:\n",
    "\n",
    "**```PorterStemmer```** is like **a stemming company** in **the town of nltk.stem** (i.e., module). By executing **```PorterStemmer()```**, you request the PosterStemmer' company send you an expert stemmer.\n",
    "\n",
    "Let's look at how this is done step by step:\n",
    "\n",
    "The following code asks Python for access to **```PorterStemmer```** (a stemming company) in the nltk.stem module (town).\n",
    "```\n",
    "from nltk.stem import PorterStemmer\n",
    "```\n",
    "It's like getting the company's phone number.\n",
    "\n",
    "The following code asks **```PorterStemmer```** calls the business to send you one of their experts.\n",
    "```\n",
    "stemmer = PorterStemmer()                      \n",
    "```\n",
    "Here, ***```stemmer```*** is a variable, a nickname for the stemming expert. (It's like your plumber 'Jimmy'; stemmer is good at stemming words.)\n",
    "\n",
    "The following line asks the expert ```stemmer``` to **```stem```** 'cooking'.\n",
    "```\n",
    "res = stemmer.stem('cooking')\n",
    "```"
   ]
  },
  {
   "cell_type": "code",
   "execution_count": 16,
   "metadata": {
    "scrolled": true
   },
   "outputs": [
    {
     "name": "stdout",
     "output_type": "stream",
     "text": [
      "cook\n",
      "cookeri\n",
      "book\n",
      "univers\n",
      "univ\n",
      "univers\n"
     ]
    }
   ],
   "source": [
    "# Stemming Words\n",
    "\n",
    "from nltk.stem import PorterStemmer \n",
    "stemmer = PorterStemmer()                      \n",
    "            \n",
    "res = stemmer.stem('cooking')                  # Ask the 'stemmer' to 'stem' 'cooking'.\n",
    "print(res)\n",
    "\n",
    "res = stemmer.stem('cookery')\n",
    "print(res)\n",
    "\n",
    "res = stemmer.stem('book')\n",
    "print(res)\n",
    "\n",
    "res = stemmer.stem('universities')\n",
    "print(res)\n",
    "\n",
    "res = stemmer.stem('univers')\n",
    "print(res)\n",
    "\n",
    "res = stemmer.stem('universal')\n",
    "print(res)"
   ]
  },
  {
   "cell_type": "markdown",
   "metadata": {},
   "source": [
    "### Lemmatizing Words with WordNet (p.32)\n",
    "\n",
    "Lemmatizing works like Stemming. **```WordNetLemmatizer```** is a business you call to get a lemmatizing expert. This expert is called 'lemmatizer' (variable), of whom you ask to lemmatize any words.\n",
    "\n",
    "When you ask lemmatizer to lematize using the **```lemmatize```** command, you can indicate what part-of-speech (pos) your word is (if there are multiple possibilities).\n",
    "\n",
    "```\n",
    "res = lemmatizer.lemmatize('cooking', pos='n')    # assume that 'cooking' is a noun.\n",
    "```\n"
   ]
  },
  {
   "cell_type": "code",
   "execution_count": 89,
   "metadata": {},
   "outputs": [
    {
     "name": "stdout",
     "output_type": "stream",
     "text": [
      "cooking\n",
      "cook\n",
      "cooking\n"
     ]
    }
   ],
   "source": [
    "# Lemmatizing Words with WordNet\n",
    "\n",
    "from nltk.stem import WordNetLemmatizer         # Import WordNetLemmatizer fom the nltk.stem module.\n",
    "lemmatizer = WordNetLemmatizer()                # Create an instance of WordNetLemmatizer.\n",
    "res = lemmatizer.lemmatize('cooking')           # Ask 'lemmatizer' (expert) to lemmatize 'cooking'.\n",
    "print(res)\n",
    "res = lemmatizer.lemmatize('cooking', pos='v')\n",
    "print(res)\n",
    "res = lemmatizer.lemmatize('cooking', pos='n')\n",
    "print(res)"
   ]
  },
  {
   "cell_type": "markdown",
   "metadata": {},
   "source": [
    "### Stemming vs. Lemmatization (p.33 — under There's more...)\n",
    "\n",
    "- Stems may not be valid words.\n",
    "- Lemmas are actual words found in Dictionaries"
   ]
  },
  {
   "cell_type": "code",
   "execution_count": 90,
   "metadata": {},
   "outputs": [
    {
     "name": "stdout",
     "output_type": "stream",
     "text": [
      "*** Stemming Examples ***\n",
      "believ\n",
      "univers\n",
      "lead\n",
      "\n",
      "*** Lemmatization Examples ***\n",
      "belief\n",
      "university\n",
      "leading\n"
     ]
    }
   ],
   "source": [
    "# Lemmatizing Words with WordNet / Stemming vs. Lemmatization (p.33)\n",
    "from nltk.stem import PorterStemmer\n",
    "from nltk.stem import WordNetLemmatizer\n",
    "\n",
    "print(\"*** Stemming Examples ***\")\n",
    "stemmer = PorterStemmer()\n",
    "print(stemmer.stem('believes'))\n",
    "print(stemmer.stem('universities'))\n",
    "print(stemmer.stem('leading'))\n",
    "\n",
    "print(\"\\n*** Lemmatization Examples ***\")\n",
    "lemmatizer = WordNetLemmatizer()\n",
    "print(lemmatizer.lemmatize('believes'))\n",
    "print(lemmatizer.lemmatize('universities'))\n",
    "print(lemmatizer.lemmatize('leading'))\n"
   ]
  },
  {
   "cell_type": "markdown",
   "metadata": {},
   "source": [
    "### Combining Stemming with Lematization (p.34)\n",
    "\n",
    "- Lemmatizing before stemming can compress words."
   ]
  },
  {
   "cell_type": "code",
   "execution_count": 91,
   "metadata": {},
   "outputs": [
    {
     "name": "stdout",
     "output_type": "stream",
     "text": [
      "buse\n",
      "bus\n",
      "bu\n"
     ]
    }
   ],
   "source": [
    "# Lemmatizing Words with WordNet / Combining Stemming with Lemmatization\n",
    "\n",
    "from nltk.stem import PorterStemmer\n",
    "from nltk.stem import WordNetLemmatizer\n",
    "stemmer = PorterStemmer()\n",
    "lemmatizer = WordNetLemmatizer()\n",
    "\n",
    "\n",
    "stem1 = stemmer.stem('buses')\n",
    "print(stem1)\n",
    "\n",
    "lemma = lemmatizer.lemmatize('buses')\n",
    "print(lemma)\n",
    "stem2 = stemmer.stem(lemma)\n",
    "print(stem2)\n"
   ]
  },
  {
   "cell_type": "code",
   "execution_count": null,
   "metadata": {
    "collapsed": true
   },
   "outputs": [],
   "source": []
  }
 ],
 "metadata": {
  "kernelspec": {
   "display_name": "Python 3",
   "language": "python",
   "name": "python3"
  },
  "language_info": {
   "codemirror_mode": {
    "name": "ipython",
    "version": 3
   },
   "file_extension": ".py",
   "mimetype": "text/x-python",
   "name": "python",
   "nbconvert_exporter": "python",
   "pygments_lexer": "ipython3",
   "version": "3.5.2"
  }
 },
 "nbformat": 4,
 "nbformat_minor": 1
}
