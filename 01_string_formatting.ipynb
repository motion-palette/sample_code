{
 "cells": [
  {
   "cell_type": "markdown",
   "metadata": {},
   "source": [
    "## String Formatting\n"
   ]
  },
  {
   "cell_type": "code",
   "execution_count": 2,
   "metadata": {},
   "outputs": [
    {
     "name": "stdout",
     "output_type": "stream",
     "text": [
      "3.1415926\n",
      "3.14\n",
      "3.142\n",
      "3\n",
      "\n",
      "\n",
      "x is 3.1415926.\n",
      "x is 3.14.\n",
      "\n",
      "\n",
      "10,000,000\n",
      "\n",
      "\n",
      "24.83%\n"
     ]
    }
   ],
   "source": [
    "# Basic String Formatting\n",
    "\n",
    "x = 3.1415926\n",
    "\n",
    "print(\"{}\".format(x))              # no number formatting\n",
    "print(\"{:.2f}\".format(x))          # 2 decimal places\n",
    "print(\"{:.3f}\".format(x))          # 3 decimal places\n",
    "print(\"{:.0f}\".format(x))          # no decimal places\n",
    "print(\"\\n\")                        # extra line '\\n' means 'new line'\n",
    "print(\"x is {}.\".format(x))        # mixing a string and a variable\n",
    "print(\"x is {:.2f}.\".format(x))    # mixing a string and a variable, and the variable has 2 decimal places\n",
    "print(\"\\n\")\n",
    "z = 10000000\n",
    "print(\"{:,}\".format(z))            # number format with comma separator\n",
    "print(\"\\n\")\n",
    "p = 0.24828\n",
    "print(\"{:.2%}\".format(p))          # format percentage with 2 decimal places"
   ]
  },
  {
   "cell_type": "code",
   "execution_count": 1,
   "metadata": {},
   "outputs": [
    {
     "name": "stdout",
     "output_type": "stream",
     "text": [
      "I took the apples off the table.\n"
     ]
    }
   ],
   "source": [
    "# Slightly More Advanced String Formatting\n",
    "\n",
    "verb  = \"took\"\n",
    "thing = \"apples\"\n",
    "place = \"table\"\n",
    "\n",
    "sentence = \"I {} the {} off the {}.\".format(verb, thing, place)\n",
    "\n",
    "print(sentence)"
   ]
  },
  {
   "cell_type": "code",
   "execution_count": null,
   "metadata": {
    "collapsed": true
   },
   "outputs": [],
   "source": []
  }
 ],
 "metadata": {
  "kernelspec": {
   "display_name": "Python 3",
   "language": "python",
   "name": "python3"
  },
  "language_info": {
   "codemirror_mode": {
    "name": "ipython",
    "version": 3
   },
   "file_extension": ".py",
   "mimetype": "text/x-python",
   "name": "python",
   "nbconvert_exporter": "python",
   "pygments_lexer": "ipython3",
   "version": "3.5.2"
  }
 },
 "nbformat": 4,
 "nbformat_minor": 1
}
