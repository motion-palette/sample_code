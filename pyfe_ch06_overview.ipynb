{
 "cells": [
  {
   "cell_type": "markdown",
   "metadata": {},
   "source": [
    "Python for Everybody\n",
    "## Chapter 06 Strings"
   ]
  },
  {
   "cell_type": "code",
   "execution_count": 8,
   "metadata": {},
   "outputs": [
    {
     "name": "stdout",
     "output_type": "stream",
     "text": [
      "a\n",
      "p\n",
      "p\n",
      "l\n",
      "e\n"
     ]
    }
   ],
   "source": [
    "# 6.1 A String is a Sequence\n",
    "\n",
    "v = \"apple\"\n",
    "print(v[0])  # Print the first character in the string. Notice the index begins with 0.\n",
    "print(v[1])\n",
    "print(v[2])\n",
    "print(v[3])\n",
    "print(v[4])\n"
   ]
  },
  {
   "cell_type": "code",
   "execution_count": 20,
   "metadata": {},
   "outputs": [
    {
     "name": "stdout",
     "output_type": "stream",
     "text": [
      "There are 5 chracters in apple.\n",
      "The last character of apple is e.\n",
      "The last character of apple is e.\n",
      "The 2nd from the last character of apple is l.\n"
     ]
    }
   ],
   "source": [
    "# 6.2 Getting the Length of a String Using 'len'\n",
    "fruit = \"apple\"\n",
    "length = len(fruit)\n",
    "print(\"There are {} chracters in {}.\".format(length, fruit))\n",
    "\n",
    "last_char = fruit[length-1]\n",
    "print(\"The last character of {} is {}.\".format(fruit, last_char))\n",
    "\n",
    "last_char = fruit[-1]  # [-1] is the equivalent of [length-1]\n",
    "print(\"The last character of {} is {}.\".format(fruit, last_char))\n",
    "\n",
    "second_from_last_char = fruit[-2]  # [-1] is the equivalent of [length-1]\n",
    "print(\"The 2nd from the last character of {} is {}.\".format(fruit, second_from_last_char))"
   ]
  },
  {
   "cell_type": "code",
   "execution_count": 28,
   "metadata": {},
   "outputs": [
    {
     "name": "stdout",
     "output_type": "stream",
     "text": [
      "o\n",
      "r\n",
      "a\n",
      "n\n",
      "g\n",
      "e\n",
      "----\n",
      "o\n",
      "r\n",
      "a\n",
      "n\n",
      "g\n",
      "e\n"
     ]
    }
   ],
   "source": [
    "# 6.3 Traversing through a String with a Loop\n",
    "\n",
    "fruit = \"orange\"\n",
    "i = 0\n",
    "while i < len(fruit):\n",
    "    letter = fruit[i]\n",
    "    print(letter)\n",
    "    i += 1\n",
    "print(\"----\")    \n",
    "for letter in fruit:\n",
    "    print(letter)"
   ]
  },
  {
   "cell_type": "code",
   "execution_count": 6,
   "metadata": {},
   "outputs": [
    {
     "name": "stdout",
     "output_type": "stream",
     "text": [
      "Carnegie\n",
      "Mellon\n",
      "---\n",
      "Car\n",
      "Mellon\n",
      "---\n",
      "m 0\n",
      "y 1\n",
      "f 2\n",
      "i 3\n",
      "l 4\n",
      "e 5\n",
      ". 6\n",
      "count = 6\n",
      "p 7\n",
      "d 8\n",
      "f 9\n",
      "This is a pdf file.\n"
     ]
    }
   ],
   "source": [
    "# 6.4 String Slices\n",
    "\n",
    "s = \"Carnegie Mellon\"\n",
    "print(s[0:8])\n",
    "print(s[9:15])\n",
    "print(\"---\")\n",
    "print(s[:3])\n",
    "print(s[9:])\n",
    "print(\"---\")\n",
    "f = \"myfile.pdf\"\n",
    "count = 0\n",
    "for c in f:\n",
    "    print(\"{} {}\".format(c, count))\n",
    "    if c == \".\":\n",
    "        print(\"count = {}\".format(count))\n",
    "        result = f[count+1:]\n",
    "    count += 1\n",
    "print(\"This is a {} file.\".format(result))"
   ]
  },
  {
   "cell_type": "code",
   "execution_count": 8,
   "metadata": {},
   "outputs": [
    {
     "name": "stdout",
     "output_type": "stream",
     "text": [
      "aBCDEFG\n"
     ]
    }
   ],
   "source": [
    "# 6.5 Strings are Immutable\n",
    "\n",
    "s = \"ABCDEFG\"\n",
    "#s[0] = \"a\"   # you can't replace a character.\n",
    "\n",
    "print(\"a\" + s[1:])\n"
   ]
  },
  {
   "cell_type": "code",
   "execution_count": 61,
   "metadata": {
    "scrolled": true
   },
   "outputs": [
    {
     "name": "stdout",
     "output_type": "stream",
     "text": [
      "There are 15 commas in this text\n"
     ]
    }
   ],
   "source": [
    "# 6.6 Looping and Counting\n",
    "\n",
    "s = \"\"\"I was born in the Year 1632, in the City of York, of a good Family, \n",
    "tho' not of that Country, my Father being a Foreigner of Bremen, who settled \n",
    "irst at Hull; He got a good Estate by Merchandise, and leaving off his Trade, \n",
    "lived afterward at York, from whence he had married my Mother, whose Relations\n",
    "were named Robinson, a very good Family in that Country, and from whom I was \n",
    "called Robinson Kreutznaer; but by the usual Corruption of Words in England, \n",
    "we are now called, nay we call our selves, and write our Name Crusoe, and so \n",
    "my Companions always call'd me. \"\"\"\n",
    "\n",
    "count = 0\n",
    "for c in s:\n",
    "    if c is \",\":\n",
    "        count += 1\n",
    "        \n",
    "print(\"There are {} commas in this text\".format(count))\n"
   ]
  },
  {
   "cell_type": "code",
   "execution_count": 65,
   "metadata": {
    "scrolled": true
   },
   "outputs": [
    {
     "name": "stdout",
     "output_type": "stream",
     "text": [
      "True\n",
      "True\n",
      "False\n"
     ]
    }
   ],
   "source": [
    "# 6.7 The 'in' Operator\n",
    "\n",
    "print('.' in \"myfile.docx\")\n",
    "\n",
    "print('.docx' in \"myfile.docx\")\n",
    "\n",
    "print('text' in \"myfile.docx\")\n"
   ]
  },
  {
   "cell_type": "code",
   "execution_count": 9,
   "metadata": {},
   "outputs": [
    {
     "name": "stdout",
     "output_type": "stream",
     "text": [
      "65\n",
      "97\n",
      "---\n",
      "False\n",
      "True\n",
      "---\n",
      "233\n",
      "252\n",
      "---\n",
      "True\n",
      "True\n",
      "False\n"
     ]
    }
   ],
   "source": [
    "# 6.8 String Comparison (cont)\n",
    "\n",
    "# This is not covered in the textbook in detail.\n",
    "# The 'ord' function returns a decimal value of a character.\n",
    "\n",
    "print(ord('A'))       # print the decimal value of 'A'\n",
    "print(ord('a'))       # print the decimal value of 'a'\n",
    "\n",
    "print(\"---\")\n",
    "print('A' > 'a')      # False: 'A' is not greater than 'a'\n",
    "print('a' > 'A')      # True: 'a' is greater than 'A'\n",
    "print(\"---\")\n",
    "\n",
    "print(ord('é'))       # print the decimal value of 'é'\n",
    "print(ord('ü'))       # print the decimal value of 'ü'\n",
    "print(\"---\")\n",
    "\n",
    "# lexicographical (dictionary) order\n",
    "print('AA' < 'Aa')    # True: AA comes before Aa\n",
    "print('AA' < 'AB')    # True: AA comes before AB\n",
    "print('XZ' < 'XY')    # False: XZ does not come before XY\n",
    "\n",
    "# reference: http://unicodelookup.com"
   ]
  },
  {
   "cell_type": "code",
   "execution_count": 75,
   "metadata": {},
   "outputs": [
    {
     "name": "stdout",
     "output_type": "stream",
     "text": [
      "False\n",
      "True\n",
      "False\n",
      "True\n"
     ]
    }
   ],
   "source": [
    "# 6.8 String Comparison (cont.)\n",
    "\n",
    "a = \"apple\"\n",
    "b = \"orange\"\n",
    "c = \"pineapple\"\n",
    "print(a == b)\n",
    "print(a == c[4:])\n",
    "\n",
    "print(\"a\" < \"A\")\n",
    "print(\"A\" < \"a\")\n",
    "\n"
   ]
  },
  {
   "cell_type": "code",
   "execution_count": 1,
   "metadata": {},
   "outputs": [
    {
     "name": "stdout",
     "output_type": "stream",
     "text": [
      "Apple\n",
      "APPLE\n",
      "apple pie\n",
      "Orange\n",
      "-1\n",
      "True\n",
      "  apple pie  \n",
      "\n",
      "apple pie\n"
     ]
    }
   ],
   "source": [
    "# 6.9 String Methods\n",
    "\n",
    "# A method is like a function used with specific types of objects (ex. strings).\n",
    "\n",
    "s = \"apple\"\n",
    "\n",
    "# dir(a)\n",
    "\n",
    "print(s.capitalize())\n",
    "print(s.upper())\n",
    "\n",
    "s = \"apple {}\"\n",
    "print(s.format(\"pie\"))\n",
    "\n",
    "print(\"orange\".capitalize())\n",
    "\n",
    "print(s.find(\"xxx\")) # returns the index of the first letter.\n",
    "print(\"pp\" in s)\n",
    "\n",
    "s = \"  apple pie  \\n\"\n",
    "print(s)\n",
    "print(s.strip())\n"
   ]
  },
  {
   "cell_type": "code",
   "execution_count": 106,
   "metadata": {},
   "outputs": [
    {
     "name": "stdout",
     "output_type": "stream",
     "text": [
      "Enter your email address: \n",
      "suguru@cmu.edu\n",
      "---\n",
      "Andrew ID: suguru\n",
      "Domain: cmu.edu\n"
     ]
    }
   ],
   "source": [
    "# 6.10 Parsing Strings\n",
    "email = input(\"Enter your email address: \\n\")\n",
    "atpos = email.find(\"@\")\n",
    "andrew_id = email[:atpos]\n",
    "domain = email[atpos+1:]\n",
    "print(\"---\")\n",
    "print(\"Andrew ID: {}\".format(andrew_id))\n",
    "print(\"Domain: {}\".format(domain))\n"
   ]
  },
  {
   "cell_type": "code",
   "execution_count": null,
   "metadata": {},
   "outputs": [],
   "source": [
    "# 6.11 Format Operator\n",
    "\n",
    "# See string_formatting.ipynb under 'sample_code.'"
   ]
  },
  {
   "cell_type": "code",
   "execution_count": null,
   "metadata": {
    "collapsed": true
   },
   "outputs": [],
   "source": []
  }
 ],
 "metadata": {
  "kernelspec": {
   "display_name": "Python 3",
   "language": "python",
   "name": "python3"
  },
  "language_info": {
   "codemirror_mode": {
    "name": "ipython",
    "version": 3
   },
   "file_extension": ".py",
   "mimetype": "text/x-python",
   "name": "python",
   "nbconvert_exporter": "python",
   "pygments_lexer": "ipython3",
   "version": "3.6.3"
  }
 },
 "nbformat": 4,
 "nbformat_minor": 1
}
