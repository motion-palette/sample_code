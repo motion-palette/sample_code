{
 "cells": [
  {
   "cell_type": "markdown",
   "metadata": {},
   "source": [
    "Python for Everybody\n",
    "## Chapter 02 Variables, Expressions, and Statements OK"
   ]
  },
  {
   "cell_type": "code",
   "execution_count": 2,
   "metadata": {},
   "outputs": [
    {
     "name": "stdout",
     "output_type": "stream",
     "text": [
      "120\n",
      "3.14\n",
      "Codingllkkk\n",
      "<class 'int'>\n",
      "<class 'float'>\n",
      "<class 'str'>\n"
     ]
    }
   ],
   "source": [
    "# 2.1 Values & Types\n",
    "\n",
    "print(120)\n",
    "print(3.14)\n",
    "print(\"Codingllkkk\")\n",
    "print(type (30))\n",
    "print(type (30.30))\n",
    "print(type (\"Coding\"))"
   ]
  },
  {
   "cell_type": "code",
   "execution_count": 1,
   "metadata": {},
   "outputs": [
    {
     "name": "stdout",
     "output_type": "stream",
     "text": [
      "259\n",
      "-9.80665\n",
      "Carnegie Mellon\n",
      "<class 'int'>\n",
      "<class 'float'>\n",
      "<class 'str'>\n"
     ]
    }
   ],
   "source": [
    "# 2.2 Variables\n",
    "x = 259                  # assigning x to 259\n",
    "g = -9.80665             # assigning g to -9.80665\n",
    "s = \"Carnegie Mellon\"    # assigning s to \"Carnegie Mellon\"\n",
    "print(x)\n",
    "print(g)\n",
    "print(s)\n",
    "print(type(x))\n",
    "print(type(g))\n",
    "print(type(s))"
   ]
  },
  {
   "cell_type": "code",
   "execution_count": 2,
   "metadata": {},
   "outputs": [
    {
     "ename": "SyntaxError",
     "evalue": "invalid syntax (<ipython-input-2-d51ecb6692e9>, line 3)",
     "output_type": "error",
     "traceback": [
      "\u001b[0;36m  File \u001b[0;32m\"<ipython-input-2-d51ecb6692e9>\"\u001b[0;36m, line \u001b[0;32m3\u001b[0m\n\u001b[0;31m    12th_month = \"Dec\"\u001b[0m\n\u001b[0m             ^\u001b[0m\n\u001b[0;31mSyntaxError\u001b[0m\u001b[0;31m:\u001b[0m invalid syntax\n"
     ]
    }
   ],
   "source": [
    "# 2.3 Variable Names and Keywords\n",
    "\n",
    "12th_month = \"Dec\"\n",
    "\n",
    "eat@ = \"restaurant\"\n",
    "\n",
    "raise = 300\n"
   ]
  },
  {
   "cell_type": "code",
   "execution_count": 23,
   "metadata": {
    "collapsed": true
   },
   "outputs": [],
   "source": [
    "# 2.4 Statements, 2.6 Expressions\n",
    "\n",
    "# Expressions are like 'phrases' and Statements are complete sentences.\n",
    "\n"
   ]
  },
  {
   "cell_type": "code",
   "execution_count": 37,
   "metadata": {},
   "outputs": [
    {
     "name": "stdout",
     "output_type": "stream",
     "text": [
      "4.222222222222222\n",
      "4\n"
     ]
    }
   ],
   "source": [
    "# 2.5 Operators (and operands)\n",
    "# e.g., +, -, *, /, **\n",
    "\n",
    "print(38/9)\n",
    "print(38//9)\n"
   ]
  },
  {
   "cell_type": "code",
   "execution_count": 43,
   "metadata": {},
   "outputs": [
    {
     "name": "stdout",
     "output_type": "stream",
     "text": [
      "16\n",
      "3\n",
      "16\n",
      "3\n"
     ]
    }
   ],
   "source": [
    "# 2.7 Order of Operations\n",
    "\n",
    "print(4+4*3)  # 16 not 24\n",
    "print(3*1**3) # 3 not 27\n",
    "\n",
    "# use parentheses to make your expression more readable.\n",
    "print(4 + (4*3))\n",
    "print(3 * (1**3))"
   ]
  },
  {
   "cell_type": "code",
   "execution_count": 45,
   "metadata": {},
   "outputs": [
    {
     "name": "stdout",
     "output_type": "stream",
     "text": [
      "1\n"
     ]
    }
   ],
   "source": [
    "# 2.8 Modulus Operator\n",
    "\n",
    "x = 7%3\n",
    "print(x)    # returns the remainder\n"
   ]
  },
  {
   "cell_type": "code",
   "execution_count": 58,
   "metadata": {},
   "outputs": [
    {
     "name": "stdout",
     "output_type": "stream",
     "text": [
      "76388\n",
      "August 31\n",
      "August 31\n"
     ]
    }
   ],
   "source": [
    "# 2.9 String Operations (basic)\n",
    "\n",
    "course = \"76\" + \"388\"\n",
    "print(course)\n",
    "\n",
    "m = \"August\"\n",
    "d = \"31\"\n",
    "print(m + \" \" + d)\n",
    "\n",
    "print(\"{} {}\".format(m, d))   # more later..."
   ]
  },
  {
   "cell_type": "code",
   "execution_count": 61,
   "metadata": {},
   "outputs": [
    {
     "name": "stdout",
     "output_type": "stream",
     "text": [
      "Enter a whole number: 10\n",
      "Enter a whole number: 10\n",
      "1010\n",
      "Enter a whole number: 10\n",
      "Enter a whole number: 10\n",
      "20\n"
     ]
    }
   ],
   "source": [
    "# 2.10 Ask the user for input\n",
    "\n",
    "x = input(\"Enter a whole number: \")\n",
    "y = input(\"Enter a whole number: \")\n",
    "print(x + y)   # what's wrong?\n",
    "\n",
    "x = int(input(\"Enter a whole number: \"))\n",
    "y = int(input(\"Enter a whole number: \"))\n",
    "print( x + y)\n"
   ]
  },
  {
   "cell_type": "code",
   "execution_count": 62,
   "metadata": {
    "collapsed": true
   },
   "outputs": [],
   "source": [
    "# 2.11 Comments\n"
   ]
  },
  {
   "cell_type": "code",
   "execution_count": 63,
   "metadata": {
    "collapsed": true
   },
   "outputs": [],
   "source": [
    "# 2.12 Choosing mnemonic variables names\n",
    "\n",
    "x = 3.14    # pi\n",
    "pi = 3.14   # this is better"
   ]
  },
  {
   "cell_type": "code",
   "execution_count": 67,
   "metadata": {},
   "outputs": [],
   "source": [
    "# 2.13 Debugging\n"
   ]
  },
  {
   "cell_type": "code",
   "execution_count": null,
   "metadata": {
    "collapsed": true
   },
   "outputs": [],
   "source": [
    "# 14"
   ]
  }
 ],
 "metadata": {
  "kernelspec": {
   "display_name": "Python 3",
   "language": "python",
   "name": "python3"
  },
  "language_info": {
   "codemirror_mode": {
    "name": "ipython",
    "version": 3
   },
   "file_extension": ".py",
   "mimetype": "text/x-python",
   "name": "python",
   "nbconvert_exporter": "python",
   "pygments_lexer": "ipython3",
   "version": "3.6.3"
  }
 },
 "nbformat": 4,
 "nbformat_minor": 1
}
