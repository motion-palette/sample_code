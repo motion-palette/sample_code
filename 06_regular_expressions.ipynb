{
 "cells": [
  {
   "cell_type": "markdown",
   "metadata": {},
   "source": [
    "# Regular Expressions—Very Simple Examples\n",
    "\n",
    "The following page shows a complete list of special characters used in regular expressions:\n",
    "\n",
    "https://docs.python.org/3/library/re.html"
   ]
  },
  {
   "cell_type": "code",
   "execution_count": 4,
   "metadata": {},
   "outputs": [
    {
     "name": "stdout",
     "output_type": "stream",
     "text": [
      "gimmicks\n",
      "analyses to deceive\n",
      "2 + 2 = 6\n"
     ]
    }
   ],
   "source": [
    "# Using 're.search()' \n",
    "import re\n",
    "\n",
    "s = \"\"\"\n",
    "Republicans and Democrats have used accounting gimmicks and competing \n",
    "government analyses to deceive the public into believing that 2 + 2 = 6. If \n",
    "our leaders cannot agree on the numbers, if \\'facts\\' are fictional, how can \n",
    "they possibly have a substantive debate on solutions? - J. C. Watts\n",
    "\"\"\"\n",
    "\n",
    "# re.search() function\n",
    "res = re.search('gimmicks', s)  # 'gimmicks' (literal match)\n",
    "if res != None:\n",
    "    print(res.group())\n",
    "\n",
    "# !! We don't need to use regular expressions to find whether a particular string is in another string. \n",
    "# !! You can use the 'find' function. But, if you need to do more complicated pattern matching, you\n",
    "# !! need to use the regular expressions package (i.e., 're')\n",
    "\n",
    "# re.search() function\n",
    "res = re.search('\\w+\\\\sto\\\\s\\w+', s)   # 'to' followed by a single space ('\\\\s') followed by multiple chraacters ('\\w+')\n",
    "if res != None:\n",
    "    print(res.group())\n",
    "\n",
    "# re.search() function\n",
    "res = re.search('[0-9].*[0-9]', s)  # 2 numbers with any number of chracters between them.\n",
    "if res != None:\n",
    "    print(res.group())\n"
   ]
  },
  {
   "cell_type": "code",
   "execution_count": 30,
   "metadata": {},
   "outputs": [
    {
     "name": "stdout",
     "output_type": "stream",
     "text": [
      "gimmicks\n",
      "47\n",
      "55\n",
      "(47, 55)\n",
      "Republicans and Democrats have used accounting gimmicks and competing \n",
      "government analyses to deceive the public into believing that 2 + 2 = 6. If \n",
      "our leaders cannot agree on the numbers, if 'facts' are fictional, how can \n",
      "they possibly have a substantive debate on solutions? - J. C. Watts\n",
      "\n"
     ]
    }
   ],
   "source": [
    "# Working with Match Objects...\n",
    "import re\n",
    "\n",
    "s = \"\"\"Republicans and Democrats have used accounting gimmicks and competing \n",
    "government analyses to deceive the public into believing that 2 + 2 = 6. If \n",
    "our leaders cannot agree on the numbers, if \\'facts\\' are fictional, how can \n",
    "they possibly have a substantive debate on solutions? - J. C. Watts\n",
    "\"\"\"\n",
    "\n",
    "# re.search() returns a match object, if there is a match.\n",
    "# if there is no match, it returns 'None'\n",
    "res = re.search('gimmicks', s)  # 'gimmicks' (literal match)\n",
    "\n",
    "# Note — 'res' is a variable now holds a Match Object (if there is a match)\n",
    "\n",
    "if res != None:          # if 'res' is not equal to 'None' (meaning there is a match)\n",
    "    print(res.group())   # If there is one matching group, group() usually returns a string.\n",
    "    print(res.end())     # the ending index of the match\n",
    "    print(res.span())    # a tuple with the starting and the ending indexes.\n",
    "    print(res.string)    # returns the original string passed to the function\n"
   ]
  },
  {
   "cell_type": "code",
   "execution_count": 36,
   "metadata": {},
   "outputs": [
    {
     "name": "stdout",
     "output_type": "stream",
     "text": [
      "['my purse', 'my soul', 'my hypos', 'my substitute']\n",
      "----\n",
      "my purse\n",
      "my soul\n",
      "my hypos\n",
      "my substitute\n"
     ]
    }
   ],
   "source": [
    "# Using 're.findall()' and 're.finditer()' functions\n",
    "\n",
    "fin = open(\"text/moby_dick.txt\")  # open a file\n",
    "s = fin.read()                    # read the entire text and assign it to 's'. This is a string.\n",
    "\n",
    "matches = re.findall(\"my\\\\s\\w+\", s)   # find all 2 word sequence that starts wtih 'my' in 's'.\n",
    "print(matches)                        # re.findall() returns a list of matched strings.\n",
    "print(\"----\")\n",
    "for match in matches:                 # loop through items in the list of matches\n",
    "    print(match)\n",
    "    "
   ]
  },
  {
   "cell_type": "code",
   "execution_count": 2,
   "metadata": {},
   "outputs": [
    {
     "name": "stdout",
     "output_type": "stream",
     "text": [
      "----\n",
      "my purse\n",
      "91\n",
      "my soul\n",
      "398\n",
      "my hypos\n",
      "552\n",
      "my substitute\n",
      "804\n"
     ]
    }
   ],
   "source": [
    "import re\n",
    "\n",
    "fin = open(\"text/moby_dick.txt\")  # open a file\n",
    "s = fin.read()                    # read the entire text and assign it to 's'. This is a string.\n",
    "\n",
    "print(\"----\")\n",
    "for m in re.finditer(\"my\\\\s\\w+\", s):      # finditer() loops through matches easily\n",
    "                                          # 'm' is a Match Object \n",
    "    print(m.group())  \n",
    "    print(m.start())\n",
    "    "
   ]
  },
  {
   "cell_type": "code",
   "execution_count": 6,
   "metadata": {},
   "outputs": [
    {
     "name": "stdout",
     "output_type": "stream",
     "text": [
      "accounting \n",
      "that \n"
     ]
    }
   ],
   "source": [
    "# Lookahead example\n",
    "import re\n",
    "\n",
    "s = \"\"\"Republicans and Democrats have used accounting gimmicks and competing \n",
    "government analyses to deceive the public into believing that 2 + 2 = 6. If \n",
    "our leaders cannot agree on the numbers, if \\'facts\\' are fictional, how can \n",
    "they po\n",
    "\"\"\"\n",
    "\n",
    "# example 1. Pattern = a word + a space (followed by 'gimmicks') but not including 'gimmicks'\n",
    "res = re.search('\\w+\\\\s(?=gimmicks)', s) \n",
    "if res != None:\n",
    "    print(res.group())\n",
    "    \n",
    "# example 2. Pattern = a word + a space (followed by a single digit) but not including the digit.\n",
    "res = re.search('\\w+\\\\s(?=[0-9])', s) \n",
    "if res != None:\n",
    "    print(res.group())"
   ]
  },
  {
   "cell_type": "markdown",
   "metadata": {
    "collapsed": true
   },
   "source": [
    "### Commonly Used Regular Expressions"
   ]
  },
  {
   "cell_type": "code",
   "execution_count": 12,
   "metadata": {
    "scrolled": false
   },
   "outputs": [
    {
     "name": "stdout",
     "output_type": "stream",
     "text": [
      "['2', '0', '1', '6', '5', '8']\n",
      "['2016', '58']\n",
      "---\n",
      "['T', 'h', 'e', 'U', 'n', 'i', 't', 'e', 'd', 'S', 't', 'a', 't', 'e', 's', 'p', 'r', 'e', 's', 'i', 'd', 'e', 'n', 't', 'i', 'a', 'l', 'e', 'l', 'e', 'c', 't', 'i', 'o', 'n', 'o', 'f', '2', '0', '1', '6', 'w', 'i', 'l', 'l', 'b', 'e', 't', 'h', 'e', '5', '8', 't', 'h', 'q', 'u', 'a', 'd', 'r', 'e', 'n', 'n', 'i', 'a', 'l', 'U', 'S', 'p', 'r', 'e', 's', 'i', 'd', 'e', 'n', 't', 'i', 'a', 'l', 'e', 'l', 'e', 'c', 't', 'i', 'o', 'n']\n",
      "---\n",
      "['The', 'United', 'States', 'presidential', 'election', 'of', '2016', 'will', 'be', 'the', '58th', 'quadrennial', 'U', 'S', 'presidential', 'election']\n",
      "---\n",
      "['The United', 'States presidential', 'election of', '2016 will', 'be the', '58th quadrennial', 'presidential election']\n",
      "---\n",
      "['U.S']\n",
      "---\n",
      "['f 2016']\n",
      "---\n",
      "['The United States presidential election of 2016']\n",
      "---\n",
      "['of 2016']\n"
     ]
    }
   ],
   "source": [
    "import re\n",
    "\n",
    "s = \"The United States presidential election of 2016 will be the 58th quadrennial U.S. presidential election.\"\n",
    "print( re.findall('[0-9]', s) )        # '[0-9]' — matches a sigle number\n",
    "print( re.findall('[0-9]+', s) )       # '[0-9]' — matches one ore more numbers\n",
    "\n",
    "print(\"---\")\n",
    "print( re.findall('\\w', s) )           # '\\w' — matches a single non-space character (this is not very useful).\n",
    "\n",
    "print(\"---\")\n",
    "print( re.findall('\\w+', s) )          # '\\w+' — one or more non-space characters. This pattern matches a word.\n",
    "\n",
    "print(\"---\")\n",
    "print( re.findall('\\w+\\s\\w+', s) )     # '\\w+\\s\\w+' – matches a word, a space, then a word\n",
    "\n",
    "print(\"---\")\n",
    "print( re.findall('\\w+\\.\\w+', s) )     # '\\w+\\.\\w+' — matches a word, a period, then a word\n",
    "                                       # '\\.' — matches a period. \n",
    "print(\"---\")    \n",
    "print( re.findall('.2016', s))        # '.' a period alone (without a back slash) matches  \n",
    "                                       # any single character including a space character.\n",
    "print(\"---\")    \n",
    "print( re.findall('.*2016', s))        # '.' a period alone (without a back slash) matches  \n",
    "                                       # any single character including a space character.\n",
    "                                       # '.*' matches one or more characters, including spaces.\n",
    "print(\"---\")\n",
    "print( re.findall('of\\s[0-9]+', s) )   # \"of\" followed by a space and one or more numbers\n",
    "\n",
    "\n"
   ]
  },
  {
   "cell_type": "code",
   "execution_count": 43,
   "metadata": {},
   "outputs": [
    {
     "name": "stdout",
     "output_type": "stream",
     "text": [
      "['(1,000,000)']\n",
      "['$1.9']\n",
      "['diversify the nation']\n",
      "['is the natural']\n"
     ]
    }
   ],
   "source": [
    "import re\n",
    "\n",
    "s1 = \"One million (1,000,000) or one thousand thousand is the natural number following 999,999 and preceding 1,000,001\"\n",
    "s2 = \"Chinese officials signaled plans to diversify the nation's $1.9 trillion reserve.\"\n",
    "\n",
    "print( re.findall('\\([0-9,]+\\)', s1))   # matches one or more numbers surrounded by parentheses\n",
    "                                        # you need the backslash '\\' character before '(' and ')'\n",
    "print( re.findall('\\$[0-9.]+', s2))     # matches one or more numbers following a dollar sign. \n",
    "                                        # you need the backslash '\\' character before the dollar sign.\n",
    "\n",
    "print( re.findall('\\w+\\sthe\\s\\w+', s1)) # matches a trigram with \"the\" in the middle (in s1)\n",
    "print( re.findall('\\w+\\sthe\\s\\w+', s2)) # matches a trigram with \"the\" in the middle (in s2)\n"
   ]
  },
  {
   "cell_type": "code",
   "execution_count": null,
   "metadata": {
    "collapsed": true
   },
   "outputs": [],
   "source": []
  }
 ],
 "metadata": {
  "kernelspec": {
   "display_name": "Python 3",
   "language": "python",
   "name": "python3"
  },
  "language_info": {
   "codemirror_mode": {
    "name": "ipython",
    "version": 3
   },
   "file_extension": ".py",
   "mimetype": "text/x-python",
   "name": "python",
   "nbconvert_exporter": "python",
   "pygments_lexer": "ipython3",
   "version": "3.5.2"
  }
 },
 "nbformat": 4,
 "nbformat_minor": 1
}
