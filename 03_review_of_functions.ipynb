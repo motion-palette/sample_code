{
 "cells": [
  {
   "cell_type": "markdown",
   "metadata": {},
   "source": [
    "## Review of Functions"
   ]
  },
  {
   "cell_type": "code",
   "execution_count": null,
   "metadata": {},
   "outputs": [],
   "source": [
    "# sample function 1\n",
    "\n",
    "def add_two_numbers(a,b):      # the function takes 2 arguments: 'a' and 'b'\n",
    "    return a + b               # returns the sum of a and b\n",
    "\n",
    "x = add_two_numbers(3,5)\n",
    "print(x)\n",
    "y = add_two_numbers(90,100)\n",
    "print(y)\n",
    "\n",
    "# print(a)  # this does not work. Why?"
   ]
  },
  {
   "cell_type": "code",
   "execution_count": null,
   "metadata": {},
   "outputs": [],
   "source": [
    "# sample function 2\n",
    "\n",
    "a = 10\n",
    "\n",
    "def add_two_numbers(a,b):      # the function takes 2 arguments: 'a' and 'b'\n",
    "    print(a)\n",
    "    result = a + b\n",
    "    return result              # returns the sum of a and b\n",
    "\n",
    "x = add_two_numbers(3,5)\n",
    "# print(x)\n",
    "\n",
    "#print(result)   # this does not work. Why?\n",
    "print(a)        # this does not work. Why?"
   ]
  },
  {
   "cell_type": "code",
   "execution_count": 6,
   "metadata": {},
   "outputs": [
    {
     "name": "stdout",
     "output_type": "stream",
     "text": [
      "8\n",
      "15\n"
     ]
    }
   ],
   "source": [
    "# sample function 3\n",
    "\n",
    "def add_two_numbers(a,b):      # the function takes 2 arguments: 'a' and 'b'\n",
    "    result = a + b             # notice this function does not 'return' any values.\n",
    "    return result\n",
    "\n",
    "x = add_two_numbers(3,5)\n",
    "y = add_two_numbers(10,5)\n",
    "print(x)\n",
    "print(y)\n"
   ]
  },
  {
   "cell_type": "code",
   "execution_count": 10,
   "metadata": {
    "scrolled": true
   },
   "outputs": [
    {
     "name": "stdout",
     "output_type": "stream",
     "text": [
      "1 I\n",
      "2 was\n",
      "3 born\n",
      "4 in\n",
      "5 the\n",
      "6 Year\n"
     ]
    }
   ],
   "source": [
    "# -----------------------------------\n",
    "# Define Functions\n",
    "# -----------------------------------\n",
    "\n",
    "def endswith_punct(w):\n",
    "    if w.endswith(\".\") or w.endswith(\",\") or w.endswith(\";\"):\n",
    "        return True\n",
    "    else:\n",
    "        return False\n",
    "\n",
    "def remove_punct(w):\n",
    "    return(w[:-1])                     # returns the string without the last character.\n",
    "    \n",
    "def print_words(p):\n",
    "    words = p.split()                  # split the paragraph into a list of words\n",
    "    count = 0\n",
    "    for w in words:                    # for each word in the list of words\n",
    "        count += 1\n",
    "        if endswith_punct(w) == True:  # find out if the word 'w' ends with a punctuation character            \n",
    "            w = remove_punct(w)        # re-assign 'w' to the word without the punctuation character\n",
    "\n",
    "        print(\"{} {}\".format(count, w))\n",
    "\n",
    "        if count > 5:\n",
    "            break\n",
    "\n",
    "# -----------------------------------\n",
    "# Test Functions\n",
    "# ----------------------------------\n",
    "p = \"\"\"I was born in the Year 1632, in the City of York, of a good Family, \n",
    "tho' not of that Country, my Father being a Foreigner of Bremen, who settled \n",
    "irst at Hull; He got a good Estate by Merchandise, and leaving off his Trade, \n",
    "lived afterward at York, from whence he had married my Mother, whose Relations\n",
    "were named Robinson, a very good Family in that Country, and from whom I was \n",
    "called Robinson Kreutznaer; but by the usual Corruption of Words in England, \n",
    "we are now called, nay we call our selves, and write our Name Crusoe, and so \n",
    "my Companions always call'd me. \"\"\"\n",
    "\n",
    "print_words(p)"
   ]
  },
  {
   "cell_type": "code",
   "execution_count": null,
   "metadata": {},
   "outputs": [],
   "source": []
  }
 ],
 "metadata": {
  "kernelspec": {
   "display_name": "Python 3",
   "language": "python",
   "name": "python3"
  },
  "language_info": {
   "codemirror_mode": {
    "name": "ipython",
    "version": 3
   },
   "file_extension": ".py",
   "mimetype": "text/x-python",
   "name": "python",
   "nbconvert_exporter": "python",
   "pygments_lexer": "ipython3",
   "version": "3.6.3"
  }
 },
 "nbformat": 4,
 "nbformat_minor": 1
}
