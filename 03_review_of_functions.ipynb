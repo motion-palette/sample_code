{
 "cells": [
  {
   "cell_type": "markdown",
   "metadata": {},
   "source": [
    "## Review of Functions"
   ]
  },
  {
   "cell_type": "code",
   "execution_count": 2,
   "metadata": {},
   "outputs": [
    {
     "name": "stdout",
     "output_type": "stream",
     "text": [
      "8\n",
      "190\n"
     ]
    }
   ],
   "source": [
    "# sample function 1\n",
    "\n",
    "def add_two_numbers(a,b):      # the function takes 2 arguments: 'a' and 'b'\n",
    "    return a + b               # returns the sum of a and b\n",
    "\n",
    "x = add_two_numbers(3,5)\n",
    "print(x)\n",
    "y = add_two_numbers(90,100)\n",
    "print(y)\n",
    "\n",
    "# print(a)  # this does not work. Why?"
   ]
  },
  {
   "cell_type": "code",
   "execution_count": 5,
   "metadata": {},
   "outputs": [
    {
     "ename": "NameError",
     "evalue": "name 'a' is not defined",
     "output_type": "error",
     "traceback": [
      "\u001b[0;31m---------------------------------------------------------------------------\u001b[0m",
      "\u001b[0;31mNameError\u001b[0m                                 Traceback (most recent call last)",
      "\u001b[0;32m<ipython-input-5-f0c92b3aa2f8>\u001b[0m in \u001b[0;36m<module>\u001b[0;34m()\u001b[0m\n\u001b[1;32m      9\u001b[0m \u001b[0;34m\u001b[0m\u001b[0m\n\u001b[1;32m     10\u001b[0m \u001b[0;31m#print(result)   # this does not work. why?\u001b[0m\u001b[0;34m\u001b[0m\u001b[0;34m\u001b[0m\u001b[0m\n\u001b[0;32m---> 11\u001b[0;31m \u001b[0mprint\u001b[0m\u001b[0;34m(\u001b[0m\u001b[0ma\u001b[0m\u001b[0;34m)\u001b[0m        \u001b[0;31m# this does not work. why?\u001b[0m\u001b[0;34m\u001b[0m\u001b[0m\n\u001b[0m",
      "\u001b[0;31mNameError\u001b[0m: name 'a' is not defined"
     ]
    }
   ],
   "source": [
    "# sample function 2\n",
    "\n",
    "def add_two_numbers(a,b):      # the function takes 2 arguments: 'a' and 'b'\n",
    "    result = a + b\n",
    "    return result              # returns the sum of a and b\n",
    "\n",
    "x = add_two_numbers(3,5)\n",
    "# print(x)\n",
    "\n",
    "#print(result)   # this does not work. Why?\n",
    "print(a)        # this does not work. Why?"
   ]
  },
  {
   "cell_type": "code",
   "execution_count": 13,
   "metadata": {},
   "outputs": [
    {
     "data": {
      "text/plain": [
       "8"
      ]
     },
     "execution_count": 13,
     "metadata": {},
     "output_type": "execute_result"
    }
   ],
   "source": [
    "# sample function 3\n",
    "\n",
    "def add_two_numbers(a,b):      # the function takes 2 arguments: 'a' and 'b'\n",
    "    result = a + b             # notice this function does not 'return' any values.\n",
    "    print(result)\n",
    "    \n",
    "x = add_two_numbers(3,5)\n",
    "#print(x)                \n"
   ]
  },
  {
   "cell_type": "code",
   "execution_count": 14,
   "metadata": {
    "scrolled": true
   },
   "outputs": [
    {
     "name": "stdout",
     "output_type": "stream",
     "text": [
      "I\n",
      "was\n",
      "born\n",
      "in\n",
      "the\n",
      "Year\n",
      "1632\n",
      "in\n",
      "the\n",
      "City\n",
      "of\n",
      "York\n",
      "of\n",
      "a\n",
      "good\n",
      "Family\n",
      "tho'\n",
      "not\n",
      "of\n",
      "that\n",
      "Country\n",
      "my\n",
      "Father\n",
      "being\n",
      "a\n",
      "Foreigner\n",
      "of\n",
      "Bremen\n",
      "who\n",
      "settled\n",
      "irst\n",
      "at\n",
      "Hull\n",
      "He\n",
      "got\n",
      "a\n",
      "good\n",
      "Estate\n",
      "by\n",
      "Merchandise\n",
      "and\n",
      "leaving\n",
      "off\n",
      "his\n",
      "Trade\n",
      "lived\n",
      "afterward\n",
      "at\n",
      "York\n",
      "from\n",
      "whence\n",
      "he\n",
      "had\n",
      "married\n",
      "my\n",
      "Mother\n",
      "whose\n",
      "Relations\n",
      "were\n",
      "named\n",
      "Robinson\n",
      "a\n",
      "very\n",
      "good\n",
      "Family\n",
      "in\n",
      "that\n",
      "Country\n",
      "and\n",
      "from\n",
      "whom\n",
      "I\n",
      "was\n",
      "called\n",
      "Robinson\n",
      "Kreutznaer\n",
      "but\n",
      "by\n",
      "the\n",
      "usual\n",
      "Corruption\n",
      "of\n",
      "Words\n",
      "in\n",
      "England\n",
      "we\n",
      "are\n",
      "now\n",
      "called\n",
      "nay\n",
      "we\n",
      "call\n",
      "our\n",
      "selves\n",
      "and\n",
      "write\n",
      "our\n",
      "Name\n",
      "Crusoe\n",
      "and\n",
      "so\n",
      "my\n",
      "Companions\n",
      "always\n",
      "call'd\n",
      "me\n"
     ]
    }
   ],
   "source": [
    "# -----------------------------------\n",
    "# Define Functions\n",
    "# -----------------------------------\n",
    "\n",
    "def endswith_punct(w):\n",
    "    if w.endswith(\".\") or w.endswith(\",\") or w.endswith(\";\"):\n",
    "        return True\n",
    "    else:\n",
    "        return False\n",
    "\n",
    "def remove_punct(w):\n",
    "    return(w[:-1])                     # returns the string without the last character.\n",
    "    \n",
    "def print_words(p):\n",
    "    words = p.split()                  # split the paragraph into a list of words\n",
    "    for w in words:                    # for each word in the list of words\n",
    "        if endswith_punct(w) == True:          # find out if the word 'w' ends with a punctuation character\n",
    "            w = remove_punct(w)        # re-assign 'w' to the word without the punctuation character\n",
    "        print(w)\n",
    "\n",
    "# -----------------------------------\n",
    "# Test Functions\n",
    "# ----------------------------------\n",
    "p = \"\"\"I was born in the Year 1632, in the City of York, of a good Family, \n",
    "tho' not of that Country, my Father being a Foreigner of Bremen, who settled \n",
    "irst at Hull; He got a good Estate by Merchandise, and leaving off his Trade, \n",
    "lived afterward at York, from whence he had married my Mother, whose Relations\n",
    "were named Robinson, a very good Family in that Country, and from whom I was \n",
    "called Robinson Kreutznaer; but by the usual Corruption of Words in England, \n",
    "we are now called, nay we call our selves, and write our Name Crusoe, and so \n",
    "my Companions always call'd me. \"\"\"\n",
    "\n",
    "print_words(p)"
   ]
  },
  {
   "cell_type": "code",
   "execution_count": null,
   "metadata": {
    "collapsed": true
   },
   "outputs": [],
   "source": []
  }
 ],
 "metadata": {
  "kernelspec": {
   "display_name": "Python 3",
   "language": "python",
   "name": "python3"
  },
  "language_info": {
   "codemirror_mode": {
    "name": "ipython",
    "version": 3
   },
   "file_extension": ".py",
   "mimetype": "text/x-python",
   "name": "python",
   "nbconvert_exporter": "python",
   "pygments_lexer": "ipython3",
   "version": "3.5.2"
  }
 },
 "nbformat": 4,
 "nbformat_minor": 1
}
