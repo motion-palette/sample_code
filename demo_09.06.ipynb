{
 "cells": [
  {
   "cell_type": "markdown",
   "metadata": {},
   "source": [
    "## 9/6 Demo\n"
   ]
  },
  {
   "cell_type": "code",
   "execution_count": 19,
   "metadata": {},
   "outputs": [
    {
     "name": "stdout",
     "output_type": "stream",
     "text": [
      "the current year is 2018 .\n",
      "the current year is 2018.\n"
     ]
    }
   ],
   "source": [
    "# Printing with the format function.\n",
    "# See: 01_string_formatting.ipynb for more examples.\n",
    "\n",
    "year = 2018\n",
    "\n",
    "# This is OK.\n",
    "print(\"the current year is\", year, \".\")\n",
    "\n",
    "# But, this is better\n",
    "print(\"the current year is {}.\".format(year))\n"
   ]
  },
  {
   "cell_type": "code",
   "execution_count": 20,
   "metadata": {},
   "outputs": [
    {
     "name": "stdout",
     "output_type": "stream",
     "text": [
      "2 multiplined by 3 is equal to 6\n"
     ]
    }
   ],
   "source": [
    "# Printing with the format function.\n",
    "# See: 01_string_formatting.ipynb for more examples.\n",
    "\n",
    "x = 2\n",
    "y = 3\n",
    "result = x * y\n",
    "\n",
    "print(\"{} multiplined by {} is equal to {}\".format(x, y, result))\n"
   ]
  },
  {
   "cell_type": "code",
   "execution_count": 14,
   "metadata": {},
   "outputs": [
    {
     "name": "stdout",
     "output_type": "stream",
     "text": [
      "width: 30\n",
      "height: 30\n",
      "The area of this rectangle is 900 sq. inches.\n"
     ]
    }
   ],
   "source": [
    "# Using parentheses\n",
    "\n",
    "width  = (int(input(\"width: \")))\n",
    "height = (int(input(\"height: \")))\n",
    "\n",
    "print(\"The area of this rectangle is {} sq. inches.\".format(width * height))\n"
   ]
  },
  {
   "cell_type": "code",
   "execution_count": 15,
   "metadata": {},
   "outputs": [
    {
     "name": "stdout",
     "output_type": "stream",
     "text": [
      "width: 30\n",
      "height: 30\n",
      "The area of this rectangle is 900 sq. inches.\n"
     ]
    }
   ],
   "source": [
    "width  = int(input(\"width: \"))\n",
    "height = int(input(\"height: \"))\n",
    "\n",
    "width  = int(width)\n",
    "height = int(height)\n",
    "print(\"The area of this rectangle is {} sq. inches.\".format(width * height))\n"
   ]
  },
  {
   "cell_type": "code",
   "execution_count": 27,
   "metadata": {},
   "outputs": [
    {
     "name": "stdout",
     "output_type": "stream",
     "text": [
      "100\n"
     ]
    }
   ],
   "source": [
    "x = \"20\"\n",
    "print(int(x) * 5)\n"
   ]
  },
  {
   "cell_type": "code",
   "execution_count": null,
   "metadata": {},
   "outputs": [],
   "source": [
    "k"
   ]
  }
 ],
 "metadata": {
  "kernelspec": {
   "display_name": "Python 3",
   "language": "python",
   "name": "python3"
  },
  "language_info": {
   "codemirror_mode": {
    "name": "ipython",
    "version": 3
   },
   "file_extension": ".py",
   "mimetype": "text/x-python",
   "name": "python",
   "nbconvert_exporter": "python",
   "pygments_lexer": "ipython3",
   "version": "3.6.3"
  }
 },
 "nbformat": 4,
 "nbformat_minor": 2
}
