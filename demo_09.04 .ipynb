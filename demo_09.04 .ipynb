{
 "cells": [
  {
   "cell_type": "code",
   "execution_count": 3,
   "metadata": {},
   "outputs": [
    {
     "name": "stdout",
     "output_type": "stream",
     "text": [
      "enter a number3\n",
      "<class 'str'>\n",
      "<class 'int'>\n"
     ]
    }
   ],
   "source": [
    "# input() is a function that asks the user to type a strong, and returns the string.\n",
    "\n",
    "x = input(\"enter a number\")\n",
    "print(type(x))\n",
    "\n",
    "y = int(x)         # int() is a function that converts x (string) into an integer (y) — Ch.4\n",
    "print(type(y))\n"
   ]
  },
  {
   "cell_type": "code",
   "execution_count": 37,
   "metadata": {},
   "outputs": [
    {
     "name": "stdout",
     "output_type": "stream",
     "text": [
      "x\n"
     ]
    }
   ],
   "source": [
    "# Assignment operator\n",
    "\n",
    "x = \"10\"\n",
    "# print(type(x))\n",
    "y = int(x)          # Python execute 'int(x)' first. Then, assigns the value it returns to x,\n",
    "                    # overwriting the original value (string) of x.\n",
    "x =  y\n",
    "print('x')\n",
    "\n",
    "# print(type(x))\n"
   ]
  },
  {
   "cell_type": "code",
   "execution_count": 43,
   "metadata": {},
   "outputs": [
    {
     "name": "stdout",
     "output_type": "stream",
     "text": [
      "<class 'str'>\n",
      "year 2018\n",
      "<class 'int'>\n",
      "3018\n",
      "<class 'float'>\n",
      "3018.1297999999997\n"
     ]
    }
   ],
   "source": [
    "x = \"2018\"\n",
    "print(type(x))\n",
    "print(\"year \" + x)\n",
    "\n",
    "x = 2018\n",
    "print(type(x))\n",
    "print(1000 + x)\n",
    "\n",
    "x = 2018.1298\n",
    "print(type(x))\n",
    "print(1000 + x)\n"
   ]
  },
  {
   "cell_type": "code",
   "execution_count": 45,
   "metadata": {},
   "outputs": [
    {
     "name": "stdout",
     "output_type": "stream",
     "text": [
      "10\n"
     ]
    }
   ],
   "source": [
    "z = 10\n",
    "print(z)\n",
    "\n"
   ]
  },
  {
   "cell_type": "code",
   "execution_count": 49,
   "metadata": {},
   "outputs": [
    {
     "name": "stdout",
     "output_type": "stream",
     "text": [
      "CMU is a string.\n",
      "'CMU' is a \n",
      " string.\n"
     ]
    }
   ],
   "source": [
    "# String formatting\n",
    "\n",
    "x = \"CMU\"\n",
    "print(\"{} is a string.\".format(x))\n",
    "\n",
    "# Using an escape character (\\) for printing quotes and double quotes?\n",
    "\n",
    "print(\"\\'{}\\' is a \\n string.\".format(x))\n"
   ]
  },
  {
   "cell_type": "code",
   "execution_count": 56,
   "metadata": {},
   "outputs": [
    {
     "name": "stdout",
     "output_type": "stream",
     "text": [
      "14\n",
      "5\n",
      "['dog', 'cat']\n",
      "2\n"
     ]
    }
   ],
   "source": [
    "# Finding out the length of a string\n",
    "\n",
    "x = \"CMU Pittsburgh\"\n",
    "print(len(x))\n",
    "\n",
    "# Finding out the length of a list\n",
    "\n",
    "x = [1,2,3,4,5]\n",
    "print(len(x))\n",
    "\n",
    "animals = [\"dog\", \"cat\"]\n",
    "print(animals)\n",
    "print(len(animals))\n"
   ]
  },
  {
   "cell_type": "code",
   "execution_count": 62,
   "metadata": {},
   "outputs": [
    {
     "name": "stdout",
     "output_type": "stream",
     "text": [
      "201820182018\n",
      "year 2018\n"
     ]
    }
   ],
   "source": [
    "# Multplying a string?\n",
    "\n",
    "x = \"2018\"\n",
    "y = x*3\n",
    "print(y)\n",
    "\n",
    "z = \"year\" + \" \" + \"2018\"\n",
    "print(z)\n"
   ]
  },
  {
   "cell_type": "code",
   "execution_count": 71,
   "metadata": {},
   "outputs": [
    {
     "name": "stdout",
     "output_type": "stream",
     "text": [
      "no you can't do that\n"
     ]
    }
   ],
   "source": [
    "# 3.8 Short-Circuit Evaluations of Logical Expressions\n",
    "\n",
    "x = 10\n",
    "y = 0\n",
    "\n",
    "#print(y != 0 or x/y)      # why are we allowed to divide x by 0 ??\n",
    "\n",
    "if y != 0 and x > 5:\n",
    "    print(x/y)\n",
    "else:\n",
    "    print(\"no you can't do that\")\n",
    "\n"
   ]
  },
  {
   "cell_type": "code",
   "execution_count": 77,
   "metadata": {},
   "outputs": [
    {
     "name": "stdout",
     "output_type": "stream",
     "text": [
      "2\n",
      "2\n",
      "2\n"
     ]
    }
   ],
   "source": [
    "# Defining a new function\n",
    "\n",
    "# a simple function\n",
    "\n",
    "def say_hi():\n",
    "    print(len(\"hi\"))\n",
    "    \n",
    "say_hi()   \n",
    "say_hi()\n",
    "say_hi()"
   ]
  },
  {
   "cell_type": "code",
   "execution_count": 79,
   "metadata": {},
   "outputs": [
    {
     "name": "stdout",
     "output_type": "stream",
     "text": [
      "6.666666666666667\n",
      "2.0\n"
     ]
    }
   ],
   "source": [
    "# a function with an argument\n",
    "\n",
    "def multiply_by_two(x):\n",
    "    print(x*2/3)\n",
    "\n",
    "multiply_by_two(10)\n",
    "multiply_by_two(3)"
   ]
  },
  {
   "cell_type": "code",
   "execution_count": 83,
   "metadata": {},
   "outputs": [
    {
     "name": "stdout",
     "output_type": "stream",
     "text": [
      "20\n",
      "6\n",
      "30\n"
     ]
    }
   ],
   "source": [
    "# a function with an argument\n",
    "\n",
    "def multiply_by_two(x):\n",
    "    return x*2\n",
    "\n",
    "def my_multiply(x, y):\n",
    "    return x*y\n",
    "\n",
    "multiply_by_two(10)\n",
    "multiply_by_two(3)\n",
    "\n",
    "y = multiply_by_two(10)\n",
    "print(y)\n",
    "print(multiply_by_two(3))\n",
    "\n",
    "z = my_multiply(10, 3)\n",
    "print(z)"
   ]
  },
  {
   "cell_type": "code",
   "execution_count": 89,
   "metadata": {},
   "outputs": [
    {
     "name": "stdout",
     "output_type": "stream",
     "text": [
      "586\n",
      "5858598\n",
      "1807674\n"
     ]
    }
   ],
   "source": [
    "# Iteration and list\n",
    "\n",
    "num_list = [293, 2929299, 903837]\n",
    "\n",
    "for num in num_list:\n",
    "    y = multiply_by_two(num)\n",
    "    print(y)"
   ]
  },
  {
   "cell_type": "code",
   "execution_count": null,
   "metadata": {},
   "outputs": [],
   "source": []
  }
 ],
 "metadata": {
  "kernelspec": {
   "display_name": "Python 3",
   "language": "python",
   "name": "python3"
  },
  "language_info": {
   "codemirror_mode": {
    "name": "ipython",
    "version": 3
   },
   "file_extension": ".py",
   "mimetype": "text/x-python",
   "name": "python",
   "nbconvert_exporter": "python",
   "pygments_lexer": "ipython3",
   "version": "3.6.3"
  }
 },
 "nbformat": 4,
 "nbformat_minor": 2
}
