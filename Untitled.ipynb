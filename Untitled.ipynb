{
 "cells": [
  {
   "cell_type": "code",
   "execution_count": 8,
   "metadata": {},
   "outputs": [
    {
     "name": "stdout",
     "output_type": "stream",
     "text": [
      "['a', 'b', '\\n<tag>c</tag>\\n', 'd', 'e', '\\n<tag>c</tag>\\n']\n",
      "=====\n",
      "a b \n",
      "<tag>c</tag>\n",
      " d e \n",
      "<tag>c</tag>\n",
      "\n"
     ]
    }
   ],
   "source": [
    "s = \"a b c d e c\"\n",
    "\n",
    "# >> \"a b <tag>c</tag> d e c\"\n",
    "\n",
    "chars = s.split()\n",
    "#print(chars)\n",
    "lst = []\n",
    "for c in chars:\n",
    "    if c == 'c':\n",
    "        lst.append('\\n<tag>c</tag>\\n')\n",
    "    else:\n",
    "        lst.append(c)\n",
    "print(lst)        \n",
    "print(\"=====\")\n",
    "result = ' '.join(lst)\n",
    "print(result)"
   ]
  },
  {
   "cell_type": "code",
   "execution_count": null,
   "metadata": {},
   "outputs": [],
   "source": []
  }
 ],
 "metadata": {
  "kernelspec": {
   "display_name": "Python 3",
   "language": "python",
   "name": "python3"
  },
  "language_info": {
   "codemirror_mode": {
    "name": "ipython",
    "version": 3
   },
   "file_extension": ".py",
   "mimetype": "text/x-python",
   "name": "python",
   "nbconvert_exporter": "python",
   "pygments_lexer": "ipython3",
   "version": "3.6.3"
  }
 },
 "nbformat": 4,
 "nbformat_minor": 2
}
