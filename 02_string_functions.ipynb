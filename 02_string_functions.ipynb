{
 "cells": [
  {
   "cell_type": "markdown",
   "metadata": {},
   "source": [
    "## String Functions"
   ]
  },
  {
   "cell_type": "code",
   "execution_count": null,
   "metadata": {},
   "outputs": [],
   "source": [
    "# You cannot use line breaks within a quote.\n",
    "\n",
    "q = \"Just the fact that some geniuses were laughed at does not imply that\n",
    "all who are laughed at are geniuses. They laughed at Columbus, they laughed at\n",
    "Fulton, they laughed at the Wright brothers. But they also laughed at Bozo the\n",
    "Clown. —Carl Sagan\"\n",
    "\n",
    "print(q)"
   ]
  },
  {
   "cell_type": "code",
   "execution_count": null,
   "metadata": {},
   "outputs": [],
   "source": [
    "# Use a back slash at the end of each line.\n",
    "\n",
    "q = \"Just the fact that some geniuses were laughed at does not imply that \\\n",
    "all who are laughed at are geniuses. They laughed at Columbus, they laughed at \\\n",
    "Fulton, they laughed at the Wright brothers. But they also laughed at Bozo the \\\n",
    "Clown. —Carl Sagan\"\n",
    "\n",
    "print(q)"
   ]
  },
  {
   "cell_type": "code",
   "execution_count": null,
   "metadata": {},
   "outputs": [],
   "source": [
    "# long string with line breaks.\n",
    "\n",
    "q = \"\"\"Just the fact that some geniuses were laughed at does not imply that \n",
    "all who are laughed at are geniuses. They laughed at Columbus, they laughed at \n",
    "Fulton, they laughed at the Wright brothers. But they also laughed at Bozo the\n",
    "Clown. —Carl Sagan\"\"\"\n",
    "\n",
    "print(q)"
   ]
  },
  {
   "cell_type": "code",
   "execution_count": null,
   "metadata": {},
   "outputs": [],
   "source": [
    "# Line breaks\n",
    "\n",
    "q = \"\"\"Just the fact that some geniuses were laughed at does not imply that \n",
    "all who are laughed at are geniuses. They laughed at Columbus, they laughed at \n",
    "\n",
    "Fulton, they laughed at the Wright brothers. But they also laughed at Bozo the\n",
    "Clown.\n",
    "\n",
    "—Carl Sagan\"\"\"\n",
    "\n",
    "print(q)"
   ]
  },
  {
   "cell_type": "code",
   "execution_count": null,
   "metadata": {},
   "outputs": [],
   "source": [
    "# New line chracter ('\\n')\n",
    "\n",
    "q1 = \"We are what we repeatedly do; excellence, then, is not an act but a habit. —Aristotle\\n\"\n",
    "q2 = \"We are what we repeatedly do; excellence, then, is not an act but a habit. \\n—Aristotle\"\n",
    "\n",
    "print(q1)\n",
    "print(q2)"
   ]
  },
  {
   "cell_type": "code",
   "execution_count": null,
   "metadata": {},
   "outputs": [],
   "source": [
    "# splitting a line\n",
    "\n",
    "# You cannot use line breaks within a quote.\n",
    "\n",
    "q = \"\"\"Just the fact that some geniuses were laughed at does not imply that\n",
    "all who are laughed at are geniuses. They laughed at Columbus, they laughed at\n",
    "Fulton, they laughed at the Wright brothers. But they also laughed at Bozo the\n",
    "Clown. —Carl Sagan\"\"\"\n",
    "\n",
    "words = q.split()\n",
    "print(words)\n",
    "\n",
    "for word in words:\n",
    "    print(word)\n",
    "    "
   ]
  },
  {
   "cell_type": "code",
   "execution_count": null,
   "metadata": {},
   "outputs": [],
   "source": [
    "# splitting a line\n",
    "\n",
    "# You cannot use line breaks within a quote.\n",
    "\n",
    "q = \"\"\"Just the fact that some geniuses were laughed at does not imply that\n",
    "all who are laughed at are geniuses. They laughed at Columbus, they laughed at\n",
    "Fulton, they laughed at the Wright brothers. But they also laughed at Bozo the\n",
    "Clown. —Carl Sagan\"\"\"\n",
    "\n",
    "def count_that(quote):\n",
    "    count = 0\n",
    "    words = quote.split()\n",
    "    for word in words:\n",
    "        if word == \"that\":\n",
    "            count += 1\n",
    "    return count\n",
    "\n",
    "print(count_that(q))"
   ]
  },
  {
   "cell_type": "code",
   "execution_count": null,
   "metadata": {},
   "outputs": [],
   "source": [
    "# Finding if a string starts or ends with a specific string.\n",
    "\n",
    "file = \"myfile.docx\"\n",
    "\n",
    "print(file.endswith(\".docx\"))\n",
    "print(file.endswith(\".pdf\"))\n",
    "print(file.startswith(\"my\"))\n",
    "print(file.startswith(\"your\"))\n"
   ]
  }
 ],
 "metadata": {
  "kernelspec": {
   "display_name": "Python 3",
   "language": "python",
   "name": "python3"
  },
  "language_info": {
   "codemirror_mode": {
    "name": "ipython",
    "version": 3
   },
   "file_extension": ".py",
   "mimetype": "text/x-python",
   "name": "python",
   "nbconvert_exporter": "python",
   "pygments_lexer": "ipython3",
   "version": "3.6.3"
  }
 },
 "nbformat": 4,
 "nbformat_minor": 1
}
