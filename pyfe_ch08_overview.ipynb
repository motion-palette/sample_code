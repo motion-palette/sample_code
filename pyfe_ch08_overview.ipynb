{
 "cells": [
  {
   "cell_type": "markdown",
   "metadata": {},
   "source": [
    "Python for Everybody\n",
    "## Chapter 08 Lists"
   ]
  },
  {
   "cell_type": "code",
   "execution_count": 20,
   "metadata": {},
   "outputs": [
    {
     "name": "stdout",
     "output_type": "stream",
     "text": [
      "['John', 'Smith', ['A', 'B', 'A+', 'F', 'C']]\n",
      "['A', 'B', 'A+', 'F', 'C']\n"
     ]
    }
   ],
   "source": [
    "# 8.01 A List is a Sequence\n",
    "\n",
    "# numbers = [1,2,3,4,5]               # list of numbers\n",
    "# print(numbers)\n",
    "\n",
    "# strings = [\"cat\", \"dog\", \"panda\"]   # list of strings\n",
    "# print(strings)\n",
    "\n",
    "# mixed = [\"cat\", 2, \"deer\", 32]      # items don't all have to be the same type.\n",
    "# print(mixed)\n",
    "\n",
    "nested = [[\"John\", \"Smith\", [\"A\", \"B\", \"A+\", \"F\", \"C\"]],             # lists can be nested.\n",
    "          [\"Jane\", \"House\", [\"A\", \"A\", \"A+\", \"A-\", \"B+\"]]]\n",
    "\n",
    "student = nested[0]\n",
    "grade = student[2]\n",
    "print(student)\n",
    "print(grade)"
   ]
  },
  {
   "cell_type": "code",
   "execution_count": null,
   "metadata": {},
   "outputs": [],
   "source": [
    "# 8.02 Lists are Mutable\n",
    "\n",
    "strings = [\"cat\", \"dog\", \"panda\"]\n",
    "print(\"original string: {}\".format(strings))\n",
    "print(\"fish\" in strings)\n",
    "\n",
    "print(\"---\")\n",
    "strings[0] = \"fish\"\n",
    "print(\"new string: {}\".format(strings))\n",
    "print(\"fish\" in strings)"
   ]
  },
  {
   "cell_type": "code",
   "execution_count": null,
   "metadata": {},
   "outputs": [],
   "source": [
    "# 8.02 Lists are Mutable (cont.)\n",
    "\n",
    "strings = [\"cat\", \"dog\", \"panda\"]\n",
    "strings[3]  # There is no item at index = 3. Remember, the first index is 0. \n",
    "            # Make sure to check the length of a list before you try to access its item."
   ]
  },
  {
   "cell_type": "code",
   "execution_count": null,
   "metadata": {},
   "outputs": [],
   "source": [
    "# 8.03 Traversing a List\n",
    "\n",
    "pets = [\"cat\", \"dog\", \"panda\"]\n",
    "for pet in pets:\n",
    "    print(pet)\n",
    "\n",
    "print(\"---\")\n",
    "for i in range(len(pets)):\n",
    "    print(pets[i])"
   ]
  },
  {
   "cell_type": "code",
   "execution_count": null,
   "metadata": {},
   "outputs": [],
   "source": [
    "# 8.04 List Operations\n",
    "\n",
    "import pprint                                  # pretty printing for debugging\n",
    "pp = pprint.PrettyPrinter(indent=4)            # create a pretty printing object for debugging.\n",
    "\n",
    "# The + operator concatenate 2 lists.\n",
    "a = [\"one\", \"two\", \"three\"]\n",
    "b = [\"four\", \"five\", \"six\"]\n",
    "c = a + b\n",
    "print(c)\n",
    "\n",
    "print(\"---\")\n",
    "x = [1, 2, 3]\n",
    "y = x * 3\n",
    "print(y)\n",
    "\n",
    "print(\"---\")\n",
    "group1 = [[\"John\", \"Smith\", [\"A\", \"B\", \"A+\", \"F\", \"C\"]],\n",
    "          [\"Jane\", \"House\", [\"A\", \"A\", \"A+\", \"A-\", \"B+\"]]]\n",
    "group2 = [[\"Debbie\", \"Smith\", [\"C\", \"B\", \"A+\", \"B\", \"C\"]],\n",
    "          [\"Richard\", \"House\", [\"A\", \"A\", \"A+\", \"A-\", \"B+\"]]]\n",
    "\n",
    "all_groups = group1 + group2\n",
    "print(all_groups)             # regular print\n",
    "pp.pprint(all_groups)         # pretty printing\n"
   ]
  },
  {
   "cell_type": "code",
   "execution_count": null,
   "metadata": {},
   "outputs": [],
   "source": [
    "# 8.05 List Slices\n",
    "\n",
    "# list[<first_inde>:<last_index>] --- the first_index is inclusive, but the last_index is NOT.\n",
    "\n",
    "n = [0,1,2,3,4,5,6,7,8,9]\n",
    "print(n[:7])                # sublist 0 - 6 (not 7)\n",
    "print(n[7:])                # sublist 7 - last element\n",
    "print(n[3:7])               # sublist 3 - 6 (not 7)\n",
    "\n",
    "n[3:7] = [30, 40, 50, 60]\n",
    "print(n)\n",
    "\n",
    "n = [0,1,2,3,4,5,6,7,8,9]\n",
    "n[3] = [30, 40, 50, 60]\n",
    "print(n)\n"
   ]
  },
  {
   "cell_type": "code",
   "execution_count": 6,
   "metadata": {},
   "outputs": [
    {
     "name": "stdout",
     "output_type": "stream",
     "text": [
      "original zoo: ['dog', 'panda', 'cat', 'snake']\n",
      "---\n",
      "sorted zoo: ['cat', 'dog', 'panda', 'snake']\n",
      "original zoo: ['dog', 'panda', 'cat', 'snake']\n",
      "----\n",
      "sorted zoo: ['cat', 'dog', 'panda', 'snake']\n",
      "['cat', 'dog', 'panda', 'snake', 'lizerd', 'frog']\n"
     ]
    }
   ],
   "source": [
    "# 8.06 List Methods\n",
    "\n",
    "# Warning: list methods usually modify the list. \n",
    "# Make a copy of the list if you want to keep the original. (i.e., new_zoo = list(zoo))\n",
    "# Or, you can use the built-in 'sorted' function (i.e., new_zoo = sorted(zoo))\n",
    "\n",
    "zoo = [\"dog\", \"panda\", \"cat\"]\n",
    "zoo.append(\"snake\")\n",
    "print(\"original zoo: {}\".format(zoo))\n",
    "print(\"---\")\n",
    "print(\"sorted zoo: {}\".format(sorted(zoo)))      # 'sorted()' does not modify the list\n",
    "print(\"original zoo: {}\".format(zoo))\n",
    "print(\"----\")\n",
    "zoo.sort()\n",
    "print(\"sorted zoo: {}\".format(zoo))              # list.sort() modifies the original list\n",
    "\n",
    "zoo1 = [\"cat\", \"dog\", \"panda\"]\n",
    "zoo2 = [\"snake\", \"lizerd\", \"frog\"]\n",
    "\n",
    "zoo1.extend(zoo2)                                 # 'extend' modifies the list (zoo1)\n",
    "print(zoo1)"
   ]
  },
  {
   "cell_type": "code",
   "execution_count": 8,
   "metadata": {},
   "outputs": [
    {
     "name": "stdout",
     "output_type": "stream",
     "text": [
      "\n",
      "--- pop the last element\n",
      "snake\n",
      "['cat', 'dog', 'panda']\n",
      "\n",
      "--- pop the first element\n",
      "cat\n",
      "['dog', 'panda', 'snake']\n",
      "\n",
      "--- delete the 2nd element\n",
      "['cat', 'panda', 'snake']\n",
      "\n",
      "--- delete the 1st and the 2nd element\n",
      "['cat', 'dog']\n",
      "\n",
      "--- remove \"panda\"\n",
      "['cat', 'dog', 'snake']\n"
     ]
    }
   ],
   "source": [
    "# 8.07 Deleting Elements\n",
    "\n",
    "print(\"\\n--- pop the last element\")\n",
    "zoo = ['cat', 'dog', 'panda', 'snake']\n",
    "\n",
    "print(zoo.pop())     # pop the last (default) elsement\n",
    "print(zoo)\n",
    "print(\"\\n--- pop the first element\")\n",
    "zoo = ['cat', 'dog', 'panda', 'snake']\n",
    "print(zoo.pop(0))    # pop the first element (index = 0)\n",
    "print(zoo)\n",
    "print(\"\\n--- delete the 2nd element\")\n",
    "zoo = ['cat', 'dog', 'panda', 'snake']\n",
    "del zoo[1]           # delete the 2nd element (index = 1)\n",
    "print(zoo)\n",
    "print(\"\\n--- delete the 1st and the 2nd element\")\n",
    "zoo = ['cat', 'dog', 'panda', 'snake']\n",
    "del zoo[2:4]\n",
    "print(zoo)\n",
    "print(\"\\n--- remove \\\"panda\\\"\")\n",
    "zoo = ['cat', 'dog', 'panda', 'snake']\n",
    "zoo.remove(\"panda\")  # remove \"panda\"\n",
    "print(zoo)\n"
   ]
  },
  {
   "cell_type": "code",
   "execution_count": null,
   "metadata": {},
   "outputs": [],
   "source": [
    "# 8.08 Lists and Functions\n",
    "\n",
    "n = [3,5,1,11,17,13,7]\n",
    "print(\"max: {}\".format(max(n)))\n",
    "print(\"min: {}\".format(min(n)))\n",
    "print(\"sum: {}\".format(sum(n)))\n",
    "\n",
    "\n",
    "numlist = []                               # initialie 'numlist' with an empty list.\n",
    "# numlist = list()                         # this does the same thing.\n",
    "while (True):\n",
    "    inp = input('Enter a number: ')        # ask the user to enter a number\n",
    "    if inp == 'done': break                # break if the user enters 'done'\n",
    "    value = float(inp)                     # convert the input to floating number, and assign it to 'value'\n",
    "    numlist.append(value)                  # append the value to the list 'numlist'.\n",
    "\n",
    "average = sum(numlist) / len(numlist)\n",
    "print('Average:', average)\n",
    "\n"
   ]
  },
  {
   "cell_type": "code",
   "execution_count": 9,
   "metadata": {},
   "outputs": [
    {
     "name": "stdout",
     "output_type": "stream",
     "text": [
      "[1, 2, 3, 4, 5]\n",
      "['C', 'a', 'r', 'n', 'e', 'g', 'i', 'e', ' ', 'M', 'e', 'l', 'l', 'o', 'n']\n",
      "['Get', 'your', 'facts', 'first,', 'then', 'you', 'can', 'distort', 'them', 'as', 'you', 'please.']\n",
      "['john', 'smoth', '200 Main st.', 'Pittsburgh', 'PA', '15213']\n",
      "john,smoth,200 Main st.,Pittsburgh,PA,15213\n",
      "john smoth 200 Main st. Pittsburgh PA 15213\n"
     ]
    }
   ],
   "source": [
    "# 8.09 Lists and Strings\n",
    "t = list([1,2,3,4,5])          # list create a list object from a given list (This is not very useful)\n",
    "print(t)\n",
    "\n",
    "t = list(\"Carnegie Mellon\")    # 'list' create a list of characters from a string.\n",
    "print(t)\n",
    "\n",
    "s = \"Get your facts first, then you can distort them as you please.\"\n",
    "t = s.split()                  # split is a list method. If there is no argument, it uses the space ' ' character\n",
    "print(t)                       # to split the string.\n",
    "\n",
    "s = \"john, smoth, 200 Main st., Pittsburgh, PA, 15213\"\n",
    "t = s.split(\", \")               # split a string with a given argument (in this case \", \" -- comma + space)\n",
    "print(t)\n",
    "\n",
    "print(','.join(t))\n",
    "print(' '.join(t))"
   ]
  },
  {
   "cell_type": "code",
   "execution_count": 10,
   "metadata": {},
   "outputs": [
    {
     "name": "stdout",
     "output_type": "stream",
     "text": [
      "stephen.marquard@uct.ac.za\n",
      "louis@media.berkeley.edu\n",
      "zqian@umich.edu\n",
      "rjlowe@iupui.edu\n",
      "zqian@umich.edu\n",
      "rjlowe@iupui.edu\n",
      "cwen@iupui.edu\n",
      "cwen@iupui.edu\n",
      "gsilver@umich.edu\n",
      "gsilver@umich.edu\n",
      "zqian@umich.edu\n",
      "gsilver@umich.edu\n",
      "wagnermr@iupui.edu\n",
      "zqian@umich.edu\n",
      "antranig@caret.cam.ac.uk\n",
      "gopal.ramasammycook@gmail.com\n",
      "david.horwitz@uct.ac.za\n",
      "david.horwitz@uct.ac.za\n",
      "david.horwitz@uct.ac.za\n",
      "david.horwitz@uct.ac.za\n",
      "stephen.marquard@uct.ac.za\n",
      "louis@media.berkeley.edu\n",
      "louis@media.berkeley.edu\n",
      "ray@media.berkeley.edu\n",
      "cwen@iupui.edu\n",
      "cwen@iupui.edu\n",
      "cwen@iupui.edu\n"
     ]
    }
   ],
   "source": [
    "# 8.10 Parsing Lines\n",
    "\n",
    "fhand = open('text/mbox-short.txt')\n",
    "for line in fhand:\n",
    "    line = line.rstrip()\n",
    "    if not line.startswith('From '): \n",
    "        continue\n",
    "    words = line.split()\n",
    "    print(words[1])\n",
    "    "
   ]
  },
  {
   "cell_type": "code",
   "execution_count": 13,
   "metadata": {},
   "outputs": [
    {
     "name": "stdout",
     "output_type": "stream",
     "text": [
      "True\n",
      "True\n",
      "---\n",
      "True\n",
      "False\n",
      "True\n",
      "---\n",
      "True\n",
      "False\n"
     ]
    }
   ],
   "source": [
    "# 8.11 Objects and Values\n",
    "\n",
    "a = \"dog\"\n",
    "b = \"dog\"\n",
    "print(a == b)\n",
    "print(a is b)\n",
    "\n",
    "print(\"---\")\n",
    "x = [1,2,3]\n",
    "y = [1,2,3]\n",
    "print(x == y)\n",
    "print(x is y)\n",
    "print(x is x)\n",
    "\n",
    "print(\"---\")\n",
    "x = [\"dog\", \"cat\", \"panda\"]\n",
    "y = [\"dog\", \"cat\", \"panda\"]\n",
    "print(x == y)\n",
    "print(x is y)\n",
    "\n"
   ]
  },
  {
   "cell_type": "code",
   "execution_count": 14,
   "metadata": {},
   "outputs": [
    {
     "name": "stdout",
     "output_type": "stream",
     "text": [
      "True\n",
      "True\n",
      "b = ['snake', 'cat', 'panda']\n",
      "a = ['snake', 'cat', 'panda']\n"
     ]
    }
   ],
   "source": [
    "# 8.12 Aliasing\n",
    "\n",
    "a = [\"dog\", \"cat\", \"panda\"]\n",
    "b = a\n",
    "\n",
    "print(b is a)  # True, because a and b a pointing the 'same' list.\n",
    "\n",
    "b[0] = \"snake\" # This changes the 1st element of 'b'\n",
    "print(b is a)  # True. a and b are still pointing to the same list. So, 'b' is 'a' == True.\n",
    "\n",
    "print(\"b = {}\".format(b))\n",
    "print(\"a = {}\".format(a))\n"
   ]
  },
  {
   "cell_type": "code",
   "execution_count": 15,
   "metadata": {},
   "outputs": [
    {
     "name": "stdout",
     "output_type": "stream",
     "text": [
      "['cat', 'panda']\n",
      "---\n",
      "['cat', 'panda']\n",
      "['dog', 'cat', 'panda']\n"
     ]
    }
   ],
   "source": [
    "# 8.13 List Arguments\n",
    "\n",
    "def delete_head(t):\n",
    "    del t[0]\n",
    "    \n",
    "def tail(t):\n",
    "    t = t[1:]  \n",
    "    return t\n",
    "    \n",
    "a = [\"dog\", \"cat\", \"panda\"]\n",
    "delete_head(a)            # delete the first element in the list\n",
    "print(a)\n",
    "\n",
    "print(\"---\")\n",
    "a = [\"dog\", \"cat\", \"panda\"]\n",
    "b = tail(a)\n",
    "print(b)\n",
    "print(a)     # the original list has not been modified.\n"
   ]
  },
  {
   "cell_type": "code",
   "execution_count": null,
   "metadata": {
    "collapsed": true
   },
   "outputs": [],
   "source": []
  }
 ],
 "metadata": {
  "kernelspec": {
   "display_name": "Python 3",
   "language": "python",
   "name": "python3"
  },
  "language_info": {
   "codemirror_mode": {
    "name": "ipython",
    "version": 3
   },
   "file_extension": ".py",
   "mimetype": "text/x-python",
   "name": "python",
   "nbconvert_exporter": "python",
   "pygments_lexer": "ipython3",
   "version": "3.6.3"
  }
 },
 "nbformat": 4,
 "nbformat_minor": 1
}
