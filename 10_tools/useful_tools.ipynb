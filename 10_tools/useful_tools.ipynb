{
 "cells": [
  {
   "cell_type": "markdown",
   "metadata": {},
   "source": [
    "### Useful Tools"
   ]
  },
  {
   "cell_type": "code",
   "execution_count": 47,
   "metadata": {},
   "outputs": [
    {
     "name": "stdout",
     "output_type": "stream",
     "text": [
      "True\n",
      "True\n",
      "False\n",
      "\n",
      "True\n",
      "False\n"
     ]
    }
   ],
   "source": [
    "# Find files and folders\n",
    "\n",
    "import os\n",
    "\n",
    "# does the file/folder exist?\n",
    "print(os.path.exists(\"test_folder\"))\n",
    "print(os.path.exists(\"test_folder/x.txt\"))\n",
    "print(os.path.exists(\"wrong_name\"))\n",
    "print(\"\")\n",
    "\n",
    "# is it a folder?\n",
    "print(\"{}\".format(os.path.isdir(\"test_folder\")))\n",
    "print(\"{}\".format(os.path.isfile(\"test_folder\")))\n"
   ]
  },
  {
   "cell_type": "code",
   "execution_count": null,
   "metadata": {
    "collapsed": true
   },
   "outputs": [],
   "source": [
    "# Delete/Create a folder\n",
    "\n",
    "import os\n",
    "\n",
    "if os.path.exists(\"delete_this_folder\"):\n",
    "    os.rmdir(\"delete_this_folder\")\n",
    "    print(\"delete_this_folder has been deleted.\")    \n",
    "else:    \n",
    "    os.makedirs(\"delete_this_folder\")\n",
    "    print(\"delete_this_folder has been created.\")"
   ]
  },
  {
   "cell_type": "code",
   "execution_count": 29,
   "metadata": {},
   "outputs": [
    {
     "name": "stdout",
     "output_type": "stream",
     "text": [
      "temp.txt has been deleted.\n"
     ]
    }
   ],
   "source": [
    "# Delete/Create a file\n",
    "\n",
    "import os\n",
    "\n",
    "\n",
    "if os.path.exists(\"temp.txt\"):\n",
    "    os.remove(\"temp.txt\")\n",
    "    print(\"temp.txt has been deleted.\")    \n",
    "else:    \n",
    "    fout = open(\"temp.txt\", \"w\")\n",
    "    fout.write(\"hello\")\n",
    "    print(\"temp.txt has been created.\")\n",
    "    "
   ]
  },
  {
   "cell_type": "code",
   "execution_count": 36,
   "metadata": {},
   "outputs": [
    {
     "name": "stdout",
     "output_type": "stream",
     "text": [
      "new_temp.txt has been delted\n"
     ]
    }
   ],
   "source": [
    "# Rename a file\n",
    "\n",
    "import os\n",
    "\n",
    "if os.path.exists(\"temp.txt\"):               # if \"temp.txt\" exists\n",
    "    os.rename(\"temp.txt\", \"new_temp.txt\")\n",
    "    print(\"temp.txt has been renamed to new_temp.txt.\")    \n",
    "    \n",
    "elif os.path.exists(\"new_temp.txt\"):         # if \"new_temp.txt\" exists\n",
    "    os.remove(\"new_temp.txt\")\n",
    "    print(\"new_temp.txt has been deleted\")\n",
    "else:                                        # if neither \"temp.txt\" nor \"new_temp.txt\" exists\n",
    "    fout = open(\"temp.txt\", \"w\")\n",
    "    fout.write(\"hello\")\n",
    "    fout.close()\n",
    "    print(\"temp.txt has been created.\")\n",
    "    "
   ]
  },
  {
   "cell_type": "code",
   "execution_count": 40,
   "metadata": {},
   "outputs": [
    {
     "name": "stdout",
     "output_type": "stream",
     "text": [
      "temp.txt has been created.\n",
      "a copy of temp.txt ('new_temp.txt') has been created.\n"
     ]
    }
   ],
   "source": [
    "# Make a copy of a file\n",
    "\n",
    "import shutil\n",
    "\n",
    "fout = open(\"temp.txt\", \"w\")\n",
    "fout.write(\"hello\")\n",
    "fout.close()\n",
    "print(\"temp.txt has been created.\")\n",
    "\n",
    "shutil.copyfile(\"temp.txt\", \"new_temp.txt\")\n",
    "print(\"a copy of temp.txt (\\'new_temp.txt\\') has been created.\")"
   ]
  },
  {
   "cell_type": "code",
   "execution_count": 50,
   "metadata": {},
   "outputs": [
    {
     "name": "stdout",
     "output_type": "stream",
     "text": [
      "dirName    = test_folder\n",
      "subdirList = ['subfolder_1', 'subfolder_2']\n",
      "fileList   = ['x.txt', 'y.txt']\n",
      "\n",
      "dirName    = test_folder/subfolder_1\n",
      "subdirList = []\n",
      "fileList   = ['a.txt', 'b.txt']\n",
      "\n",
      "dirName    = test_folder/subfolder_2\n",
      "subdirList = []\n",
      "fileList   = ['c.txt', 'd.txt']\n",
      "\n",
      "----------------------\n",
      "dirName = test_folder/x.txt\n",
      "dirName = test_folder/y.txt\n",
      "dirName = test_folder/subfolder_1/a.txt\n",
      "dirName = test_folder/subfolder_1/b.txt\n",
      "dirName = test_folder/subfolder_2/c.txt\n",
      "dirName = test_folder/subfolder_2/d.txt\n"
     ]
    }
   ],
   "source": [
    "# Traversing through a nested folder structure\n",
    "\n",
    "import os\n",
    "\n",
    "for dirName, subdirList, fileList in os.walk(\"test_folder\"):\n",
    "    print(\"dirName    = {}\".format(dirName))\n",
    "    print(\"subdirList = {}\".format(subdirList))\n",
    "    print(\"fileList   = {}\".format(fileList))\n",
    "    print(\"\")\n",
    "    \n",
    "print(\"----------------------\")\n",
    "for dirName, subdirList, fileList in os.walk(\"test_folder\"):\n",
    "    for f in fileList:        \n",
    "        print(\"dirName = {}\".format(os.path.join(dirName, f)))\n",
    "        \n",
    "        # os.path.join uses appropriate character between file/sfolders (e.g., \"\\\" for Windows, \"/\" for Macs)"
   ]
  }
 ],
 "metadata": {
  "kernelspec": {
   "display_name": "Python 3",
   "language": "python",
   "name": "python3"
  },
  "language_info": {
   "codemirror_mode": {
    "name": "ipython",
    "version": 3
   },
   "file_extension": ".py",
   "mimetype": "text/x-python",
   "name": "python",
   "nbconvert_exporter": "python",
   "pygments_lexer": "ipython3",
   "version": "3.5.2"
  }
 },
 "nbformat": 4,
 "nbformat_minor": 1
}
