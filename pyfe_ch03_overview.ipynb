{
 "cells": [
  {
   "cell_type": "markdown",
   "metadata": {},
   "source": [
    "Python for Everybody\n",
    "## Chapter 03 Conditional Execution"
   ]
  },
  {
   "cell_type": "code",
   "execution_count": 1,
   "metadata": {},
   "outputs": [
    {
     "name": "stdout",
     "output_type": "stream",
     "text": [
      "True\n",
      "<class 'bool'>\n",
      "<class 'bool'>\n"
     ]
    }
   ],
   "source": [
    "# 3.1 Boolean Expressions\n",
    "\n",
    "# Named after George Boole...\n",
    "\n",
    "print(200 == 200)\n",
    "print(type(True))\n",
    "print(type(False))\n"
   ]
  },
  {
   "cell_type": "code",
   "execution_count": 29,
   "metadata": {},
   "outputs": [
    {
     "name": "stdout",
     "output_type": "stream",
     "text": [
      "True\n",
      "False\n",
      "True\n",
      "False\n"
     ]
    }
   ],
   "source": [
    "# 3.2 Logical Operators\n",
    "\n",
    "# and, or, and not\n",
    "\n",
    "print(5 == 5 and 10 == 10)\n",
    "print(5 == 5 and 10 == 9)\n",
    "print(5 == 5 or 10 == 9)\n",
    "print(5 == 3 or 10 == 9)\n"
   ]
  },
  {
   "cell_type": "code",
   "execution_count": 35,
   "metadata": {},
   "outputs": [
    {
     "name": "stdout",
     "output_type": "stream",
     "text": [
      "x is an integer\n"
     ]
    }
   ],
   "source": [
    "# 3.3 Conditional Execution\n",
    "\n",
    "x = 10\n",
    "if type(x) == int:\n",
    "    print('x is an integer')\n",
    "    "
   ]
  },
  {
   "cell_type": "code",
   "execution_count": 40,
   "metadata": {},
   "outputs": [
    {
     "name": "stdout",
     "output_type": "stream",
     "text": [
      "x is an integer\n"
     ]
    }
   ],
   "source": [
    "# 3.4 Alternative Excution\n",
    "\n",
    "x = 10\n",
    "if type(x) == int:\n",
    "    print('x is an integer.')\n",
    "else:\n",
    "    print('x is not an integer.')"
   ]
  },
  {
   "cell_type": "code",
   "execution_count": 51,
   "metadata": {},
   "outputs": [
    {
     "name": "stdout",
     "output_type": "stream",
     "text": [
      "x is an integer.\n"
     ]
    }
   ],
   "source": [
    "# 3.5 Chained Conditionals\n",
    "\n",
    "x = 10\n",
    "if type(x) == int:\n",
    "    print('x is an integer.')\n",
    "elif type(x) == float:\n",
    "    print('x is a float.')\n",
    "elif type(x) == str:\n",
    "    print('x is a string.')\n",
    "else:\n",
    "    print('I cannot tell what x is')\n"
   ]
  },
  {
   "cell_type": "code",
   "execution_count": 65,
   "metadata": {},
   "outputs": [
    {
     "name": "stdout",
     "output_type": "stream",
     "text": [
      "(1) hotdog or (2) pizza?1\n",
      "with (1) mustard, (2) ketchap, or (3) both?3\n",
      "hotdog with mustard and ketchap\n"
     ]
    }
   ],
   "source": [
    "# 3.6 Nested Conditionals\n",
    "\n",
    "choice1 = int(input(\"(1) hotdog or (2) pizza? \"))\n",
    "if choice1 == 1:\n",
    "    choice2 = input(\"with (1) mustard, (2) ketchap, or (3) both? \")\n",
    "    if choice2 == 1:\n",
    "        print(\"hotdog with mustard\")\n",
    "    elif choice2 == 2:\n",
    "        print(\"hotdog with ketchap\")\n",
    "    else:\n",
    "        print(\"hotdog with mustard and ketchap\")\n",
    "else:\n",
    "    choice2 = input(\"with (1) pepperoni or (2) sausage? \")\n",
    "    if choice2 == 1:\n",
    "        print(\"pizza with pepperroni\")\n",
    "    else:\n",
    "        print(\"pizza with sausages\")\n",
    "        "
   ]
  },
  {
   "cell_type": "code",
   "execution_count": 69,
   "metadata": {},
   "outputs": [
    {
     "name": "stdout",
     "output_type": "stream",
     "text": [
      "Enter a number: gogo\n",
      "we are expecting an integer...\n"
     ]
    }
   ],
   "source": [
    "# 3.7 Catching Exceptions using Try and Except\n",
    "\n",
    "x = input(\"Enter a number: \")\n",
    "try:\n",
    "    print(int(x))    \n",
    "except:\n",
    "    print(\"we are expecting an integer...\")\n",
    "    \n",
    "# !! When should we use Try and Except? \n"
   ]
  },
  {
   "cell_type": "code",
   "execution_count": 72,
   "metadata": {},
   "outputs": [
    {
     "name": "stdout",
     "output_type": "stream",
     "text": [
      "False\n"
     ]
    }
   ],
   "source": [
    "# 3.8 Short-Circuit Evaluations of Logical Expressions\n",
    "\n",
    "x = 10\n",
    "y = 0\n",
    "\n",
    "print(y != 0 and x/y)      # why are we allowed to divide x by 0 ??\n"
   ]
  },
  {
   "cell_type": "code",
   "execution_count": 14,
   "metadata": {},
   "outputs": [
    {
     "ename": "IndentationError",
     "evalue": "unexpected indent (<ipython-input-14-103897e04143>, line 7)",
     "output_type": "error",
     "traceback": [
      "\u001b[0;36m  File \u001b[0;32m\"<ipython-input-14-103897e04143>\"\u001b[0;36m, line \u001b[0;32m7\u001b[0m\n\u001b[0;31m    print(x)       # all the lines at the same level should have the same indentation!\u001b[0m\n\u001b[0m    ^\u001b[0m\n\u001b[0;31mIndentationError\u001b[0m\u001b[0;31m:\u001b[0m unexpected indent\n"
     ]
    }
   ],
   "source": [
    "# 3.9 Debugging\n",
    "x = 10\n",
    "y = 20\n",
    "\n",
    "if x > y:\n",
    "    print(x)\n",
    "     print(x)       # all lines at the same level should line up."
   ]
  },
  {
   "cell_type": "code",
   "execution_count": null,
   "metadata": {
    "collapsed": true
   },
   "outputs": [],
   "source": []
  }
 ],
 "metadata": {
  "kernelspec": {
   "display_name": "Python 3",
   "language": "python",
   "name": "python3"
  },
  "language_info": {
   "codemirror_mode": {
    "name": "ipython",
    "version": 3
   },
   "file_extension": ".py",
   "mimetype": "text/x-python",
   "name": "python",
   "nbconvert_exporter": "python",
   "pygments_lexer": "ipython3",
   "version": "3.5.2"
  }
 },
 "nbformat": 4,
 "nbformat_minor": 1
}
