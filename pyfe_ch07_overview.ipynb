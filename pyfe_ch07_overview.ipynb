{
 "cells": [
  {
   "cell_type": "markdown",
   "metadata": {},
   "source": [
    "Python for Everybody\n",
    "## Chapter 07 Files"
   ]
  },
  {
   "cell_type": "code",
   "execution_count": null,
   "metadata": {},
   "outputs": [],
   "source": [
    "# 7.1 Persistence\n",
    "\n",
    "# Read the textbook"
   ]
  },
  {
   "cell_type": "code",
   "execution_count": null,
   "metadata": {},
   "outputs": [],
   "source": [
    "# 7.2 Opening Files\n",
    "\n",
    "fhandle = open('text/1984.txt')    # There is a folder called \"text\" in the sample_code folder.\n",
    "print(fhandle)                     # print 'fhandle' (file handle)."
   ]
  },
  {
   "cell_type": "code",
   "execution_count": null,
   "metadata": {},
   "outputs": [],
   "source": [
    "# 7.2 Opening Files (cont.)\n",
    "\n",
    "fhandle = open('1984.txt')          # If the file does not exist, you'll get an error."
   ]
  },
  {
   "cell_type": "code",
   "execution_count": null,
   "metadata": {},
   "outputs": [],
   "source": [
    "# 7.3 Text Files and Lines\n",
    "\n",
    "s1 = \"Carnegie Mellon University\"\n",
    "s2 = \"Carnegie\\nMellon\\nUniversity\"\n",
    "\n",
    "print(s1)\n",
    "print(\"--\")\n",
    "print(s2)"
   ]
  },
  {
   "cell_type": "markdown",
   "metadata": {},
   "source": [
    "#### Newlines are represented in different ways. If you are interested, see https://en.wikipedia.org/wiki/Newline for more information. For your projects, we'll deal with this case by case.\n",
    "***"
   ]
  },
  {
   "cell_type": "code",
   "execution_count": null,
   "metadata": {},
   "outputs": [],
   "source": [
    "# 7.4 Reading Files\n",
    "\n",
    "fhandle = open('text/1984.txt')\n",
    "print(fhandle.read())                      # <file-handle>.read() reads the entire text\n",
    "\n",
    "print(\"---\")\n",
    "fhandle = open('text/moby_dick.txt')\n",
    "for l in fhandle:\n",
    "\n",
    "    print(l)\n",
    "    \n",
    "print(\"---\") \n",
    "count = 0\n",
    "fhandle = open('text/a_dream_within_a_dream.txt')\n",
    "for l in fhandle:\n",
    "    print(l)       # try print(l.strip())\n",
    "    count += 1\n",
    "print(\"** {} lines\".format(count))\n",
    "  "
   ]
  },
  {
   "cell_type": "code",
   "execution_count": null,
   "metadata": {},
   "outputs": [],
   "source": [
    "# 7.5 Searching through a File\n",
    "\n",
    "# Print all the 'From\" lines.\n",
    "\n",
    "fhandle = open('text/mbox-short.txt')\n",
    "count = 0                           # initialize 'count'\n",
    "for l in fhandle:                   # for each line in the file\n",
    "    if l.startswith('From:'):       # if the line starts with \"From:\"\n",
    "        l = l.strip()               # remove the new line character\n",
    "        print(l)\n",
    "        count += 1\n",
    "print(\"----\\nThere are {} messages.\".format(count))"
   ]
  },
  {
   "cell_type": "code",
   "execution_count": null,
   "metadata": {},
   "outputs": [],
   "source": [
    "# 7.5 Searching through a File (cont.)\n",
    "\n",
    "# Print all usernames in mbox-short.txt.\n",
    "\n",
    "fhandle = open('text/mbox-short.txt')\n",
    "count = 0                           # initialize 'count'\n",
    "for l in fhandle:                   # for each line in the file\n",
    "    if l.startswith('From:'):       # if the line starts with \"From:\"\n",
    "        l = l.strip()               # remove the new line character\n",
    "        atpos = l.find(\"@\")         # find the  position of \"@\"\n",
    "        print(l[5:atpos])           # print the substring betweeen indexes 5 and 'atpos' (i.e., usernames)\n",
    "        \n"
   ]
  },
  {
   "cell_type": "code",
   "execution_count": null,
   "metadata": {},
   "outputs": [],
   "source": [
    "# 7.6 Letting the User Choose the File Name\n",
    "\n",
    "fname = input('Enter the file name: ')    # user input\n",
    "fpath = \"text/\" + fname                   # path to the file (i.e., including the folder name)\n",
    "fhand = open(fpath)                       # open the file\n",
    "\n",
    "count = 0\n",
    "for line in fhand:\n",
    "    if line.startswith('Subject:'):\n",
    "        count += 1\n",
    "\n",
    "print(\"There are {} subject lines in {}\".format(count, fname))"
   ]
  },
  {
   "cell_type": "code",
   "execution_count": null,
   "metadata": {},
   "outputs": [],
   "source": [
    "# 7.7 Using 'try', 'except', and 'open'\n",
    "\n",
    "# This code looks like the one included in the textbook (p.86)\n",
    "# This code does NOT work.\n",
    "\n",
    "fname = input('Enter the file name: ')    # user input\n",
    "fpath = \"text/\" + fname                   # path to the file (i.e., including the folder name)\n",
    "try:\n",
    "    fhand = open(fpath)                   # open the file\n",
    "except:\n",
    "    print(\"File not found: {}\".format(fpath))\n",
    "    # exit()                                # THIS DOES NOT WORK in Jupyter Notebook, and will retart the kernel.\n",
    "    \n",
    "count = 0\n",
    "for line in fhand:\n",
    "    if line.startswith('Subject:'):\n",
    "        count += 1\n",
    "print(\"There are {} subject lines in {}\".format(count, fname))\n"
   ]
  },
  {
   "cell_type": "code",
   "execution_count": null,
   "metadata": {},
   "outputs": [],
   "source": [
    "# 7.7 Using 'try', 'except', and 'open' (cont.)\n",
    "\n",
    "fname = input('Enter the file name: ')    # user input\n",
    "fpath = \"text/\" + fname                   # path to the file (i.e., including the folder name)\n",
    "try:\n",
    "    fhand = open(fpath)                   # open the file\n",
    "    count = 0\n",
    "    for line in fhand:\n",
    "        if line.startswith('Subject:'):\n",
    "            count += 1\n",
    "    print(\"There are {} subject lines in {}\".format(count, fname))\n",
    "except:\n",
    "    print(\"File not found: {}\".format(fpath))\n",
    "    \n"
   ]
  },
  {
   "cell_type": "code",
   "execution_count": null,
   "metadata": {},
   "outputs": [],
   "source": [
    "# 7.8 Writing Files\n",
    "\n",
    "s1 = \"Sometimes life hits you in the head with a brick. Don't lose faith.\"\n",
    "fout = open('output.txt', 'w')     # Create a writable new file called 'output.txt'\n",
    "fout.write(s1)                     # Write the string 's' to the file. 'fout' is already associated with 'output.txt'.\n",
    "fout.close()                       # Close the file. !! This is important !! \n",
    "\n",
    "fhand = open(\"output.txt\")         # Open the file we just created.\n",
    "s2 = fhand.read()                  # Read the file\n",
    "print(s2)                          # Print the content of the file\n",
    "fhand.close()                      # Close the file. !! This is important !!"
   ]
  },
  {
   "cell_type": "code",
   "execution_count": null,
   "metadata": {},
   "outputs": [],
   "source": []
  }
 ],
 "metadata": {
  "kernelspec": {
   "display_name": "Python 3",
   "language": "python",
   "name": "python3"
  },
  "language_info": {
   "codemirror_mode": {
    "name": "ipython",
    "version": 3
   },
   "file_extension": ".py",
   "mimetype": "text/x-python",
   "name": "python",
   "nbconvert_exporter": "python",
   "pygments_lexer": "ipython3",
   "version": "3.5.2"
  }
 },
 "nbformat": 4,
 "nbformat_minor": 1
}
