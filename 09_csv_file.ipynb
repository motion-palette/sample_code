{
 "cells": [
  {
   "cell_type": "markdown",
   "metadata": {},
   "source": [
    "### This is an example of how you can generate a CSV file.\n",
    "\n",
    "Note: There is a special Python module for reading/writing CSV. You are not expected to use it in this assignment, but you can use it if you are interested."
   ]
  },
  {
   "cell_type": "code",
   "execution_count": 3,
   "metadata": {
    "collapsed": true
   },
   "outputs": [],
   "source": [
    "# A list of 5 bigrams. Your top 10 bigrams/trigrams should be listed like this.\n",
    "bigrams = ['our country', 'our nation', 'out campaign', 'out economy', 'our allies'] \n",
    "\n",
    "# Add single quotes to each bigram so you can still find bigrams in the CSV file.\n",
    "bigrams = [\"\\'\" + s + \"\\'\" for s in bigrams]\n",
    "\n",
    "# The following code concatenates (joins) all strings in the list with a space character between them.\n",
    "str = \"\"\n",
    "for s in bigrams:\n",
    "    str += \"\\'\" + s + \"\\'\"\n",
    "    str += \" \"\n",
    "str = str[:-1]\n",
    "\n",
    "# This line will do the same thing:\n",
    "# str = \" \".join(bigrams)    \n",
    "\n",
    "# random sample values\n",
    "x1 = 10\n",
    "x2 = 20\n",
    "y1 = 10.2\n",
    "y2 = 30.8\n",
    "\n",
    "fout = open(\"tiny_sample.csv\", \"w\")                     # Create a file called \"tiny_sample.csv\"\n",
    "fout.write(\"{},{},{}\\n\".format(\"x1\", \"y1\", \"bigram\"))   # write the header\n",
    "fout.write(\"{},{},{}\\n\".format(x1, y1, str))            # write the first row\n",
    "fout.write(\"{},{},{}\\n\".format(x2, y2, str))            # write the first row\n",
    "fout.close()                                            # make sure to close the file."
   ]
  }
 ],
 "metadata": {
  "kernelspec": {
   "display_name": "Python 3",
   "language": "python",
   "name": "python3"
  },
  "language_info": {
   "codemirror_mode": {
    "name": "ipython",
    "version": 3
   },
   "file_extension": ".py",
   "mimetype": "text/x-python",
   "name": "python",
   "nbconvert_exporter": "python",
   "pygments_lexer": "ipython3",
   "version": "3.5.2"
  }
 },
 "nbformat": 4,
 "nbformat_minor": 1
}
