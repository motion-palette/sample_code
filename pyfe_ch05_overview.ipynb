{
 "cells": [
  {
   "cell_type": "markdown",
   "metadata": {},
   "source": [
    "Python for Everybody\n",
    "## Chapter 05 Iteration"
   ]
  },
  {
   "cell_type": "code",
   "execution_count": null,
   "metadata": {},
   "outputs": [],
   "source": [
    "# 5.1 Updating Variables\n",
    "\n",
    "# Increment x by 1\n",
    "x = 0\n",
    "x = x + 1\n",
    "print(x)\n",
    "x = x + 1 \n",
    "print(x)\n",
    "x = x + 1\n",
    "print(x)\n",
    "\n",
    "print(\"---\")\n",
    "\n",
    "# Increment x by 2. \"+=\" is a short-hand.\n",
    "x += 2\n",
    "print(x)\n",
    "x += 2\n",
    "print(x)\n",
    "x += 2\n",
    "print(x)"
   ]
  },
  {
   "cell_type": "code",
   "execution_count": null,
   "metadata": {},
   "outputs": [],
   "source": [
    "# 5.2 The While Statement\n",
    "\n",
    "count = 1\n",
    "max_num = 10\n",
    "while count <= max_num:      # count <= max_num becomes False when count is greater than 10.\n",
    "    print(count)\n",
    "    count += 1               # increment count by 1.\n",
    "print(\"done!\")    \n"
   ]
  },
  {
   "cell_type": "code",
   "execution_count": null,
   "metadata": {
    "collapsed": true
   },
   "outputs": [],
   "source": [
    "# 5.3 Infinite Loops\n",
    "\n",
    "# Why is the following code commented out? Don't run it.\n",
    "\n",
    "# count = 1\n",
    "# while count > 0: \n",
    "#     print(count)\n",
    "#     count += 1\n",
    "# print(\"done!\")    \n"
   ]
  },
  {
   "cell_type": "code",
   "execution_count": null,
   "metadata": {},
   "outputs": [],
   "source": [
    "# 5.4 Infinite Loops and Break\n",
    "\n",
    "while True:\n",
    "    line = input(\"Are you done? \")\n",
    "    if line == 'yes':\n",
    "        break\n",
    "    print(line)\n",
    "print('Done!')    \n"
   ]
  },
  {
   "cell_type": "code",
   "execution_count": null,
   "metadata": {},
   "outputs": [],
   "source": [
    "# 5.5 Finishing Iterations with Continue\n",
    "\n",
    "while True:\n",
    "    line = input(\"Are you done? \")\n",
    "    if line == '#':\n",
    "        continue         # 'continue' will skip the rest of the statements in the loop, and start from the top.\n",
    "    if line == 'yes':\n",
    "        break\n",
    "    print(line)\n",
    "print('Done!')    \n",
    "\n"
   ]
  },
  {
   "cell_type": "code",
   "execution_count": null,
   "metadata": {},
   "outputs": [],
   "source": [
    "# 5.6 Define Loops Using 'for'\n",
    "\n",
    "f1 = \"Discover the power within yourself.\"\n",
    "f2 = \"Patience is a virtue, unless its against a brick wall.\"\n",
    "f3 = \"The best way to give credit is to give it away.\"\n",
    "f4 = \"You believe in the goodness of mankind.\"\n",
    "f5 = \"You can fix it with a little extra energy and a positive attitude.\"\n",
    "\n",
    "fortunes = [f1, f2, f3, f4, f5]   # This is a list of fortunes. We'll learn more about lists in chapter 8.\n",
    "                                  # You can list strings, numbers, and more.\n",
    "\n",
    "for fortune in fortunes:\n",
    "    print(fortune)\n",
    "    "
   ]
  },
  {
   "cell_type": "code",
   "execution_count": null,
   "metadata": {},
   "outputs": [],
   "source": [
    "# 5.6 Define Loops Using 'for' (cont.)\n",
    "\n",
    "# You can use the 'range' function with the 'for' loop. \n",
    "# Here are some examples:\n",
    "\n",
    "for x in range(5):       # x >= 0 and x < 5\n",
    "    print(x)\n",
    "\n",
    "print(\"---\")    \n",
    "\n",
    "for x in range(2,10):    # x >= 2 and x < 10\n",
    "    print(x)\n",
    "    \n",
    "print(\"---\")    \n",
    "    \n",
    "for x in range(3,18,3): # x >= 3 and x < 18, pick every 3 number\n",
    "    print(x)\n",
    "        \n",
    "    "
   ]
  },
  {
   "cell_type": "code",
   "execution_count": null,
   "metadata": {},
   "outputs": [],
   "source": [
    "# 5.6 Define Loops Using 'for' (cont.)\n",
    "\n",
    "# Nested loops\n",
    "\n",
    "for x in range(3):                      # for each x between 0 and 2\n",
    "    for y in range(3):                  # for each y between 0 and 2 \n",
    "        print(\"({}, {})\".format(x,y))\n",
    "    print(\"\")                           # when the inner loop is finished, add a line break.\n"
   ]
  },
  {
   "cell_type": "code",
   "execution_count": null,
   "metadata": {
    "collapsed": true
   },
   "outputs": [],
   "source": [
    "# 5.6 Define Loops Using 'for' (cont.)\n",
    "\n"
   ]
  },
  {
   "cell_type": "code",
   "execution_count": null,
   "metadata": {
    "collapsed": true
   },
   "outputs": [],
   "source": [
    "# 5.7 Loop Patterns"
   ]
  }
 ],
 "metadata": {
  "kernelspec": {
   "display_name": "Python 3",
   "language": "python",
   "name": "python3"
  },
  "language_info": {
   "codemirror_mode": {
    "name": "ipython",
    "version": 3
   },
   "file_extension": ".py",
   "mimetype": "text/x-python",
   "name": "python",
   "nbconvert_exporter": "python",
   "pygments_lexer": "ipython3",
   "version": "3.5.2"
  }
 },
 "nbformat": 4,
 "nbformat_minor": 1
}
