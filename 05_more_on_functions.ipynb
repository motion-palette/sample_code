{
 "cells": [
  {
   "cell_type": "markdown",
   "metadata": {},
   "source": [
    "## More on Functions"
   ]
  },
  {
   "cell_type": "markdown",
   "metadata": {},
   "source": [
    "### Built-in Functions\n",
    "\n",
    "Reference: https://docs.python.org/3/library/functions.html\n"
   ]
  },
  {
   "cell_type": "code",
   "execution_count": 18,
   "metadata": {
    "scrolled": true
   },
   "outputs": [
    {
     "name": "stdout",
     "output_type": "stream",
     "text": [
      "[1, 2, 3, 4, 5, 7, 8, 9, 10]\n",
      "---\n",
      "9\n",
      "---\n",
      "26\n"
     ]
    }
   ],
   "source": [
    "nums = [9,2,1,5,3,7,8,4,10]\n",
    "\n",
    "# print() is a built-in function \n",
    "print(nums)       # print' 'nums'.\n",
    "\n",
    "# sorted() is a built-in function\n",
    "x = sorted(nums)  #'sort' 'nums' and return the sorted list.\"\n",
    "print(x)\n",
    "\n",
    "# len() is a built-in function\n",
    "print(\"---\")\n",
    "x = len(nums)     #calculate the lenth of 'nums'.\n",
    "print(x)\n",
    "\n",
    "# len() is a built-in function\n",
    "print(\"---\")\n",
    "univ = \"Carnegie Mellon University\"\n",
    "x = len(univ)\n",
    "print(x)\n"
   ]
  },
  {
   "cell_type": "code",
   "execution_count": null,
   "metadata": {
    "collapsed": true
   },
   "outputs": [],
   "source": [
    "### Your Functions"
   ]
  },
  {
   "cell_type": "code",
   "execution_count": 4,
   "metadata": {},
   "outputs": [
    {
     "name": "stdout",
     "output_type": "stream",
     "text": [
      "my function returns 100.\n"
     ]
    }
   ],
   "source": [
    "def my_function(x):\n",
    "    return x*10\n",
    "\n",
    "print(\"my function returns {}.\".format(my_function(10)))"
   ]
  },
  {
   "cell_type": "markdown",
   "metadata": {},
   "source": [
    "### Methods\n",
    "\n",
    "- Some of the built-in types *know* certain tasks. For example, a list object knows how to sort its elements; a string object knows how to format a string with variables.\n",
    "- These special functions are usually called 'methods'.\n",
    "- The best way to think about this is that these objects 'know' how to perform certain tasks.\n",
    "\n",
    "Syntax:\n",
    "\n",
    ">```\n",
    "<object>.method(...)\n",
    "```"
   ]
  },
  {
   "cell_type": "code",
   "execution_count": null,
   "metadata": {
    "collapsed": true
   },
   "outputs": [],
   "source": [
    "# sort() is a method of the list object\n",
    "nums.sort()           # Read like this: \"Ask 'nums' to sort itself.\"\n",
    "print(nums)\n",
    "\n",
    "# format() is a method of the string object\n",
    "s = \"My name is {}.\"\n",
    "name = \"John\"\n",
    "print(s.format(name))"
   ]
  },
  {
   "cell_type": "markdown",
   "metadata": {},
   "source": [
    "### Function Defined by a Module\n",
    "\n",
    "- A **module** is a file containing Python definitions and statements (e.g., functions and variables).\n",
    "- Each module contains a group of relevant functions.\n",
    "- For example, 'random' is a module including many convenient functions that help programmers use random numbers.\n",
    "- A **package** is a collection of modules — e.g., Natural Language Took Kit (NLTK) package.\n",
    "\n",
    "Syntax:\n",
    "\n",
    ">```\n",
    "<module_name>.method(...)\n",
    "```\n",
    "\n",
    "References:\n",
    "- Random Module: https://docs.python.org/3/library/random.html\n",
    "- Math Module: https://docs.python.org/3/library/math.html"
   ]
  },
  {
   "cell_type": "code",
   "execution_count": 3,
   "metadata": {},
   "outputs": [
    {
     "name": "stdout",
     "output_type": "stream",
     "text": [
      "0.45820313422825865\n",
      "1\n",
      "10.234\n",
      "['.gitignore', '1984.txt', 'a_dream_within_a_dream.txt', 'mbox-short.txt', 'mbox.txt', 'moby_dick.txt']\n",
      "True\n"
     ]
    }
   ],
   "source": [
    "import random\n",
    "import math\n",
    "import os\n",
    "\n",
    "# random() is a function defined in the 'random' module\n",
    "x = random.random()\n",
    "print(x)\n",
    "\n",
    "# randint() is a function defined in the 'random' module\n",
    "x = random.randint(0,10)\n",
    "print(x)\n",
    "\n",
    "# fabs(x) is a function defined in the 'math' module. It returns the absoute value of x.\n",
    "x = math.fabs(-10.234)\n",
    "print(x)\n",
    "\n",
    "# listdir() is a function defined in the 'os' module.\n",
    "x = os.listdir(\"text\")\n",
    "print(x)\n",
    "\n",
    "# isfile(file) is a function defined in the 'os.path' module. 'path' is a sub-module of 'os'.\n",
    "x = os.path.isfile(\"text/1984.txt\")\n",
    "print(x)"
   ]
  },
  {
   "cell_type": "code",
   "execution_count": null,
   "metadata": {
    "collapsed": true
   },
   "outputs": [],
   "source": []
  }
 ],
 "metadata": {
  "kernelspec": {
   "display_name": "Python 3",
   "language": "python",
   "name": "python3"
  },
  "language_info": {
   "codemirror_mode": {
    "name": "ipython",
    "version": 3
   },
   "file_extension": ".py",
   "mimetype": "text/x-python",
   "name": "python",
   "nbconvert_exporter": "python",
   "pygments_lexer": "ipython3",
   "version": "3.5.2"
  }
 },
 "nbformat": 4,
 "nbformat_minor": 1
}
