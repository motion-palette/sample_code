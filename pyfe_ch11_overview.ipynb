{
 "cells": [
  {
   "cell_type": "markdown",
   "metadata": {},
   "source": [
    "Python for Everybody\n",
    "## Chapter 11 Regular Expressions\n",
    "\n",
    "The following page shows a complete list of special characters used in regular expressions: https://docs.python.org/3/library/re.html\n",
    "\n",
    "Don't try to read and remember everything all at once. The best way to learn regular expression is to learn what you need when you need it.\n"
   ]
  },
  {
   "cell_type": "code",
   "execution_count": null,
   "metadata": {},
   "outputs": [],
   "source": [
    "# Some examples\n",
    "\n",
    "import re\n",
    "fhand = open(\"text/a_dream_within_a_dream.txt\")\n",
    "\n",
    "print(\"# if there is at least one \\'in\\' in the line\")\n",
    "for line in fhand:\n",
    "    res = re.search('in', line.strip().lower())             # 'in'  -- at least one 'in'\n",
    "    if res:\n",
    "        print(line.strip())\n",
    "fhand.close()\n",
    "\n",
    "fhand = open(\"text/a_dream_within_a_dream.txt\")\n",
    "print(\"\\n# if the line starts with \\'in\\'\")\n",
    "for line in fhand:\n",
    "    res = re.search('^in', line.strip().lower())              # '^in'   -- starts with 'in'\n",
    "    if res:\n",
    "        print(line.strip())\n",
    "fhand.close()\n",
    "\n",
    "fhand = open(\"text/a_dream_within_a_dream.txt\")\n",
    "print(\"\\n# if the line ends with \\'?\\'\")\n",
    "for line in fhand:\n",
    "    res = re.search('\\?$', line.strip().lower())              # '\\?$'   -- ends with '?'\n",
    "    if res:\n",
    "        print(line.strip())\n",
    "fhand.close()\n",
    "\n",
    "fhand = open(\"text/a_dream_within_a_dream.txt\")\n",
    "print(\"\\n# if \\'in\\' is surrounded by white space characters\")\n",
    "for line in fhand:\n",
    "    res = re.search('\\\\sin\\\\s', line.strip().lower())              # '\\\\sin\\\\s'   -- \\\\s matches a white space character\n",
    "    if res:\n",
    "        print(line.strip())\n",
    "fhand.close()\n",
    "\n",
    "fhand = open(\"text/a_dream_within_a_dream.txt\")\n",
    "print(\"\\n# if \\'in\\' is surrounded by NON white space characters\")\n",
    "for line in fhand:    \n",
    "    res = re.search('\\\\Sin\\\\S', line.strip().lower())              # '\\\\Sin\\\\S'    -- \\\\S matches a NON white space character\n",
    "    if res:        \n",
    "        print(line.strip())\n",
    "fhand.close()\n"
   ]
  },
  {
   "cell_type": "code",
   "execution_count": null,
   "metadata": {},
   "outputs": [],
   "source": [
    "# 11.1 Character matching in regular expressions\n",
    "\n",
    "# Search for lines that start with 'F', followed by\n",
    "# 2 characters, followed by 'm:'\n",
    "import re\n",
    "hand = open('text/mbox-short.txt')\n",
    "for line in hand:\n",
    "    line = line.rstrip()\n",
    "    if re.search('^F..m:', line):    # . (dot) matches a single character, except the newline chracter.\n",
    "        print(line)\n"
   ]
  },
  {
   "cell_type": "code",
   "execution_count": null,
   "metadata": {},
   "outputs": [],
   "source": [
    "# More examples\n",
    "\n",
    "import re\n",
    "\n",
    "#url = '<p>Hello World</p><a href=\"http://example.com\">More Examples</a><a href=\"http://example2.com\">Even More Examples</a>'\n",
    "#urls = re.findall('http[s]?://(?:[a-zA-Z]|[0-9]|[$-_@.&+]|[!*\\(\\),]|(?:%[0-9a-fA-F][0-9a-fA-F]))+', url)\n",
    "#print(urls)\n",
    "\n",
    "s= '(412) 234-5678'\n",
    "print(re.findall('\\([0-9]+\\)', s))    # find the area code\n",
    "print(re.findall('\\\\s[0-9]+', s))     # find the exchange\n",
    "print(re.findall('[0-9]+$', s))       # find the phone number\n",
    "\n",
    "q = \"Two things are infinite: the universe and human stupidity; and I\\'m not sure about the universe. ― Albert Einstein\"\n",
    "\n",
    "# one or more characters followed by a space then 'universe'. (i.e., bi-gram ends with 'universe')\n",
    "print(re.findall('\\w+\\suniverse', q))  \n",
    "\n",
    "# 'universe' followed by a space, a word, a space, a word (i.e., tri-gram starts with 'universe')\n",
    "print(re.findall('universe\\s\\w+\\s\\w+', q))  \n",
    "\n",
    "# '.*' matches any number of characters. (i.e., a pattern begins and ends with 'universe')\n",
    "print(re.findall('universe.*universe', q))  \n",
    "\n",
    "# '|' (vertical bar) can be used to list options. (i.e., 'infinite or 'human')\n",
    "print(re.findall('(infinite|human)', q))  \n",
    "\n",
    "# You can construct a query in your code.\n",
    "w1 = 'infinite'\n",
    "w2 = 'human'\n",
    "query1 = w1 + \"|\" + w2\n",
    "query2 = w1 + \".*\" + w2\n",
    "query3 = \"\\w+\\\\s\" + w2 + \"\\\\s\\w+\"\n",
    "print(re.findall(query1, q))\n",
    "print(re.findall(query2, q))\n",
    "print(re.findall(query3, q))            \n"
   ]
  },
  {
   "cell_type": "code",
   "execution_count": null,
   "metadata": {},
   "outputs": [],
   "source": [
    "# 11.1 (cont.)\n",
    "\n",
    "# Search for lines that start with From and have an at sign\n",
    "import re\n",
    "hand = open('text/mbox-short.txt')\n",
    "for line in hand:\n",
    "    line = line.rstrip()\n",
    "    if re.search('^From:.+@', line):\n",
    "        print(line)"
   ]
  },
  {
   "cell_type": "code",
   "execution_count": null,
   "metadata": {},
   "outputs": [],
   "source": [
    "# 11.2 Extracting data using regular expressions\n",
    "\n",
    "import re\n",
    "s = 'A message from csev@umich.edu to cwen@iupui.edu about meeting @2PM'\n",
    "lst = re.findall('\\S+@\\S+', s)     # '\\S+' = multiple non-white-space characteres\n",
    "print(lst)\n",
    "\n",
    "s = 'A message from csev@umich.edu to cwen@iupui.edu about meeting @2PM'\n",
    "lst = re.findall('\\w+\\\\s\\w+(?=@)', s)    # '(?=...)'  if ... matches next\n",
    "print(lst)"
   ]
  },
  {
   "cell_type": "code",
   "execution_count": null,
   "metadata": {},
   "outputs": [],
   "source": [
    "# 11.3 Combining Searching and Extracting\n",
    "\n",
    "# Search for lines that start with 'X' followed by any non\n",
    "# whitespace characters and ':'\n",
    "# followed by a space and any number.\n",
    "# The number can include a decimal.\n",
    "import re\n",
    "hand = open('text/mbox-short.txt')\n",
    "for line in hand:\n",
    "    line = line.rstrip()\n",
    "    if re.search('^X\\S*: [0-9.]+', line):\n",
    "        print(line)\n",
    "        "
   ]
  },
  {
   "cell_type": "code",
   "execution_count": null,
   "metadata": {},
   "outputs": [],
   "source": [
    "# 11.3 (cont. #2)\n",
    "\n",
    "# Search for lines that start with 'X' followed by any\n",
    "# non whitespace characters and ':' followed by a space\n",
    "# and any number. The number can include a decimal.\n",
    "# Then print the number if it is greater than zero.\n",
    "import re\n",
    "hand = open('text/mbox-short.txt')\n",
    "for line in hand:\n",
    "    line = line.rstrip()\n",
    "    x = re.findall('^X\\S*: ([0-9.]+)', line)\n",
    "    if len(x) > 0:\n",
    "        print(x)"
   ]
  },
  {
   "cell_type": "code",
   "execution_count": null,
   "metadata": {},
   "outputs": [],
   "source": [
    "# 11.3 (cont. #3)\n",
    "\n",
    "# Search for lines that start with 'Details: rev='\n",
    "# followed by numbers and '.'\n",
    "# Then print the number if it is greater than zero\n",
    "import re\n",
    "hand = open('text/mbox-short.txt')\n",
    "for line in hand:\n",
    "    line = line.rstrip()\n",
    "    x = re.findall('^Details:.*rev=([0-9.]+)', line)\n",
    "    if len(x) > 0:\n",
    "        print(x)"
   ]
  },
  {
   "cell_type": "code",
   "execution_count": null,
   "metadata": {},
   "outputs": [],
   "source": [
    "# 11.3 (cont. #4)\n",
    "\n",
    "# Search for lines that start with From and a character\n",
    "# followed by a two digit number between 00 and 99 followed by ':'\n",
    "# Then print the number if it is greater than zero\n",
    "import re\n",
    "hand = open('text/mbox-short.txt')\n",
    "for line in hand:\n",
    "    line = line.rstrip()\n",
    "    x = re.findall('^From .* ([0-9][0-9]):', line)\n",
    "    if len(x) > 0: \n",
    "        print(x)\n",
    "        "
   ]
  },
  {
   "cell_type": "code",
   "execution_count": null,
   "metadata": {},
   "outputs": [],
   "source": [
    "# 11.4 Escape Character\n",
    "import re\n",
    "x = 'We just received $10.00 for cookies.'\n",
    "y = re.findall('\\$[0-9.]+',x)\n",
    "print(y)"
   ]
  },
  {
   "cell_type": "code",
   "execution_count": null,
   "metadata": {},
   "outputs": [],
   "source": [
    "# 11.5 Summary\n",
    "\n"
   ]
  },
  {
   "cell_type": "code",
   "execution_count": null,
   "metadata": {},
   "outputs": [],
   "source": [
    "# 11.6 Bonus Section for Unix / Linux users\n",
    "\n",
    "# This section is optional"
   ]
  }
 ],
 "metadata": {
  "kernelspec": {
   "display_name": "Python 3",
   "language": "python",
   "name": "python3"
  },
  "language_info": {
   "codemirror_mode": {
    "name": "ipython",
    "version": 3
   },
   "file_extension": ".py",
   "mimetype": "text/x-python",
   "name": "python",
   "nbconvert_exporter": "python",
   "pygments_lexer": "ipython3",
   "version": "3.5.2"
  }
 },
 "nbformat": 4,
 "nbformat_minor": 1
}
